{
 "cells": [
  {
   "cell_type": "markdown",
   "id": "0bbad906-4b6e-431b-8b12-e16a667f5777",
   "metadata": {},
   "source": [
    "# Classification"
   ]
  },
  {
   "cell_type": "code",
   "execution_count": 1,
   "id": "aca7030a-ddd5-4e64-8393-178a7564c7f7",
   "metadata": {},
   "outputs": [],
   "source": [
    "import os\n",
    "import pandas as pd\n",
    "import numpy as np\n",
    "import matplotlib.pyplot as plt\n",
    "from pathlib import Path\n",
    "\n",
    "import pickle\n",
    "from sklearn.model_selection import train_test_split\n",
    "from sklearn.neighbors import KNeighborsClassifier\n",
    "from sklearn.preprocessing import scale,StandardScaler,MinMaxScaler\n",
    "from sklearn.pipeline import Pipeline\n",
    "from sklearn.model_selection import cross_val_score\n",
    "from sklearn.model_selection import GridSearchCV\n",
    "from sklearn.metrics import accuracy_score, classification_report, confusion_matrix\n",
    "from sklearn import metrics\n",
    "from sklearn import linear_model\n",
    "from sklearn import tree\n",
    "from sklearn.tree import DecisionTreeClassifier\n",
    "from sklearn.model_selection import cross_val_score\n",
    "from matplotlib.legend_handler import HandlerLine2D\n",
    "\n",
    "\n",
    "\n",
    "np.random.seed(54)\n"
   ]
  },
  {
   "cell_type": "code",
   "execution_count": 11,
   "id": "f885d95e",
   "metadata": {},
   "outputs": [
    {
     "data": {
      "text/plain": [
       "['df_day.csv',\n",
       " 'df_hour.csv',\n",
       " 'btc',\n",
       " '.DS_Store',\n",
       " 'bitcoin_2.csv',\n",
       " 'cleaned_bitcoin_upto_2022-08-10.csv',\n",
       " 'classification_model_scores.sav',\n",
       " 'bitcoin_10.csv',\n",
       " 'cluster_data_files',\n",
       " 'bitcoin_13.csv',\n",
       " 'bitcoin_16.csv',\n",
       " '.ipynb_checkpoints',\n",
       " 'eth',\n",
       " 'df_min_post_clustering.csv',\n",
       " 'bitcoin.csv',\n",
       " 'bitcoin_merged.csv',\n",
       " 'df_minute.csv']"
      ]
     },
     "execution_count": 11,
     "metadata": {},
     "output_type": "execute_result"
    }
   ],
   "source": [
    "os.listdir('Data')"
   ]
  },
  {
   "cell_type": "code",
   "execution_count": 12,
   "id": "5d30a2f1-799b-4f1d-8d5f-786bae271a35",
   "metadata": {},
   "outputs": [],
   "source": [
    "df = pd.read_csv('Data/df_min_post_clustering.csv')\n",
    "df = df.set_index('date').drop('Unnamed: 0',axis = 1)\n",
    "subset_columns = ['percent_change', \n",
    "                  'volume','n_trades',\n",
    "                  'compound_avg','nTweets','nlikes','nreplies','nretweets']\n"
   ]
  },
  {
   "cell_type": "code",
   "execution_count": 13,
   "id": "c44c1d25",
   "metadata": {},
   "outputs": [
    {
     "data": {
      "text/plain": [
       "Index(['open', 'close', 'low', 'high', 'volume', 'n_trades', 'compound_avg',\n",
       "       'compound_scaled_avg', 'price_change', 'percent_change', 'code',\n",
       "       'nTweets', 'nlikes', 'nreplies', 'nretweets', 'k_means_clusters',\n",
       "       'hier_clusters', 'db_clusters'],\n",
       "      dtype='object')"
      ]
     },
     "execution_count": 13,
     "metadata": {},
     "output_type": "execute_result"
    }
   ],
   "source": [
    "df.columns"
   ]
  },
  {
   "cell_type": "code",
   "execution_count": 58,
   "id": "b315e65e-699e-4cf7-b473-0838bd0a4b39",
   "metadata": {},
   "outputs": [],
   "source": [
    "def prep_data(df,subset_cols,target_col,model):\n",
    "    \n",
    "    buy = False\n",
    "    sell = True\n",
    "    df_subset = df[subset_cols]\n",
    "    df_subset['response'] = np.where(df_subset.copy()[target_col] > 0,sell,buy) \n",
    "    print(df_subset['response'].value_counts())\n",
    "    \n",
    "    x_col = df_subset.columns[1:-4]\n",
    "    y_col = df_subset.columns[-1:]\n",
    "    X = df_subset[x_col]\n",
    "    y = np.array(df_subset['response'])\n",
    "    \n",
    "    X_train, X_test, y_train, y_test = train_test_split(X, \n",
    "                                                    y, \n",
    "                                                    test_size = 0.3) \n",
    "    \n",
    "    \n",
    "    if model == 'logistic':\n",
    "        scaler = MinMaxScaler()\n",
    "        X_train = scaler.fit_transform(X_train)\n",
    "        X_test = scaler.transform(X_test)\n",
    "\n",
    "    if model == 'knn':\n",
    "        scaler = StandardScaler()\n",
    "        X_train = scaler.fit_transform(X_train)\n",
    "        X_test = scaler.transform(X_test)\n",
    "\n",
    "    \n",
    "\n",
    "\n",
    "    return X_train, X_test, y_train, y_test,y,X, df_subset"
   ]
  },
  {
   "cell_type": "markdown",
   "id": "a773d20e-ee47-4faf-8560-01c796987f3a",
   "metadata": {},
   "source": [
    "## kNN"
   ]
  },
  {
   "cell_type": "code",
   "execution_count": 59,
   "id": "836c806e-a0e8-4067-81b9-b1a91b1adc45",
   "metadata": {},
   "outputs": [
    {
     "name": "stdout",
     "output_type": "stream",
     "text": [
      "False    7218\n",
      "True     5742\n",
      "Name: response, dtype: int64\n"
     ]
    },
    {
     "name": "stderr",
     "output_type": "stream",
     "text": [
      "/var/folders/bx/98s7l1y96p1f_2n55v3g_3dc0000gn/T/ipykernel_35733/2953734480.py:6: SettingWithCopyWarning: \n",
      "A value is trying to be set on a copy of a slice from a DataFrame.\n",
      "Try using .loc[row_indexer,col_indexer] = value instead\n",
      "\n",
      "See the caveats in the documentation: https://pandas.pydata.org/pandas-docs/stable/user_guide/indexing.html#returning-a-view-versus-a-copy\n",
      "  df_subset['response'] = np.where(df_subset.copy()[target_col] > 0,sell,buy)\n"
     ]
    }
   ],
   "source": [
    "X_train, X_test, y_train, y_test,y,X,df_subset = prep_data(df,subset_columns,'percent_change','knn')"
   ]
  },
  {
   "cell_type": "code",
   "execution_count": 60,
   "id": "2660c576-8387-4837-9dfa-52d151b980bb",
   "metadata": {},
   "outputs": [
    {
     "data": {
      "text/plain": [
       "(array([False,  True]), array([2144, 1744]))"
      ]
     },
     "execution_count": 60,
     "metadata": {},
     "output_type": "execute_result"
    }
   ],
   "source": [
    "np.unique(y_test, return_counts=True)"
   ]
  },
  {
   "cell_type": "code",
   "execution_count": 61,
   "id": "572b13d2-2013-4a7a-b2f8-496727b169ae",
   "metadata": {},
   "outputs": [
    {
     "name": "stdout",
     "output_type": "stream",
     "text": [
      "1 0.5121\n",
      "2 0.5329\n",
      "3 0.5093\n",
      "4 0.5324\n",
      "5 0.51\n",
      "6 0.5285\n",
      "7 0.5201\n",
      "8 0.536\n",
      "9 0.5242\n",
      "10 0.5316\n",
      "11 0.5147\n",
      "12 0.5314\n",
      "13 0.519\n",
      "14 0.5285\n",
      "15 0.5221\n",
      "16 0.5373\n",
      "17 0.5219\n",
      "18 0.5347\n",
      "19 0.5358\n",
      "20 0.537\n",
      "21 0.5278\n",
      "22 0.5329\n",
      "23 0.5298\n",
      "24 0.5332\n",
      "25 0.5262\n",
      "26 0.535\n",
      "27 0.5283\n",
      "28 0.534\n",
      "29 0.526\n",
      "30 0.5311\n",
      "31 0.5249\n",
      "32 0.5368\n",
      "33 0.5275\n",
      "34 0.5332\n",
      "35 0.5316\n",
      "36 0.5394\n",
      "37 0.5311\n",
      "38 0.5406\n",
      "39 0.5322\n",
      "40 0.5386\n",
      "41 0.5319\n",
      "42 0.5399\n",
      "43 0.5327\n",
      "44 0.534\n",
      "45 0.5291\n",
      "46 0.5401\n",
      "47 0.5399\n",
      "48 0.5404\n",
      "49 0.5406\n",
      "50 0.5381\n",
      "51 0.5412\n",
      "52 0.5453\n",
      "53 0.546\n",
      "54 0.5509\n",
      "55 0.5466\n",
      "56 0.545\n",
      "57 0.5466\n",
      "58 0.5445\n",
      "59 0.5427\n",
      "60 0.5417\n",
      "61 0.544\n",
      "62 0.5473\n",
      "63 0.5476\n",
      "64 0.5484\n",
      "65 0.5491\n",
      "66 0.5499\n",
      "67 0.5489\n",
      "68 0.5486\n",
      "69 0.5471\n",
      "70 0.5494\n",
      "71 0.5496\n",
      "72 0.5535\n",
      "73 0.5481\n",
      "74 0.554\n",
      "75 0.5491\n",
      "76 0.5484\n",
      "77 0.5458\n",
      "78 0.5507\n",
      "79 0.5507\n",
      "80 0.5484\n",
      "81 0.552\n",
      "82 0.5481\n",
      "83 0.5494\n",
      "84 0.5494\n",
      "85 0.5502\n",
      "86 0.5502\n",
      "87 0.5499\n",
      "88 0.5502\n",
      "89 0.5496\n",
      "90 0.5525\n",
      "91 0.5509\n",
      "92 0.554\n",
      "93 0.5522\n",
      "94 0.5527\n",
      "95 0.5522\n",
      "96 0.552\n",
      "97 0.5517\n",
      "98 0.554\n",
      "99 0.5509\n",
      "100 0.5512\n"
     ]
    }
   ],
   "source": [
    "kNN_dict = {}\n",
    "for x in range(1,101):\n",
    "    kNN = KNeighborsClassifier(n_neighbors = x)\n",
    "    # Fit the classifier to the data.\n",
    "    kNN.fit(X_train, y_train)\n",
    "    predictions = kNN.predict(X_test)\n",
    "    #actual_v_predicted = np.column_stack((y_test, predictions))\n",
    "    cm_kNN = confusion_matrix(y_test, predictions)\n",
    "    #print(cm_kNN)\n",
    "    print(x,round(accuracy_score(y_test, predictions), 4))\n",
    "    kNN_dict[x] = round(accuracy_score(y_test, predictions), 4)"
   ]
  },
  {
   "cell_type": "code",
   "execution_count": 62,
   "id": "eb00fd64-c676-4e3c-8bd9-816fdef975b8",
   "metadata": {},
   "outputs": [
    {
     "data": {
      "text/plain": [
       "74"
      ]
     },
     "execution_count": 62,
     "metadata": {},
     "output_type": "execute_result"
    }
   ],
   "source": [
    "max_key = max(kNN_dict, key = kNN_dict.get)\n",
    "max_key"
   ]
  },
  {
   "cell_type": "code",
   "execution_count": 63,
   "id": "3b605b03-2a06-4238-a53d-7efb6164c003",
   "metadata": {},
   "outputs": [
    {
     "name": "stdout",
     "output_type": "stream",
     "text": [
      "74 0.554\n"
     ]
    }
   ],
   "source": [
    "kNN = KNeighborsClassifier(n_neighbors = max_key)\n",
    "# Fit the classifier to the data.\n",
    "kNN.fit(X_train, y_train)\n",
    "predictions = kNN.predict(X_test)\n",
    "#actual_v_predicted = np.column_stack((y_test, predictions))\n",
    "cm_kNN = confusion_matrix(y_test, predictions)\n",
    "#print(cm_kNN)\n",
    "print(max_key,round(accuracy_score(y_test, predictions), 4))\n",
    "#kNN_dict[x] = round(accuracy_score(y_test, predictions), 4)"
   ]
  },
  {
   "cell_type": "code",
   "execution_count": 64,
   "id": "b3236bf9-705a-44b3-84a1-9100ff46bb81",
   "metadata": {},
   "outputs": [
    {
     "data": {
      "image/png": "[encoded data removed]",
      "text/plain": [
       "<Figure size 432x288 with 1 Axes>"
      ]
     },
     "metadata": {
      "needs_background": "light"
     },
     "output_type": "display_data"
    }
   ],
   "source": [
    "plt.imshow(cm_kNN, interpolation = 'nearest', cmap = plt.cm.Wistia)\n",
    "#classNames = ['Buy', 'Sell']\n",
    "classNames = ['Negative', 'Positive']\n",
    "plt.title('Confusion Matrix - Test Data')\n",
    "plt.ylabel('True label')\n",
    "plt.xlabel('Predicted label')\n",
    "tick_marks = np.arange(len(classNames))\n",
    "plt.xticks(tick_marks, classNames, rotation = 45)\n",
    "plt.yticks(tick_marks, classNames)\n",
    "#s = [['TN', 'FP'], ['FN', 'TP']]\n",
    "s = [['Buy', 'False Buy'], ['False Sell', 'Sell']]\n",
    "for i in range(2):\n",
    "    for j in range(2):\n",
    "        plt.text(j,i, str(s[i][j]) + \" = \" + str(cm_kNN[i][j]))\n",
    "plt.show()"
   ]
  },
  {
   "cell_type": "code",
   "execution_count": 65,
   "id": "86fcf17b-1296-414c-80c7-ed635ab9f5d0",
   "metadata": {},
   "outputs": [
    {
     "name": "stdout",
     "output_type": "stream",
     "text": [
      "    metrics  values  model\n",
      "0  accuracy   0.554  kNN_k\n"
     ]
    }
   ],
   "source": [
    "# Create a dictionary with accuracy values for our kNN model with k.\n",
    "model_final_dict = {'metrics': [\"accuracy\"],\n",
    "                    'values':[round(accuracy_score(y_test, predictions), 4)],\n",
    "                    'model':['kNN_k']}\n",
    "model_final = pd.DataFrame(data = model_final_dict)\n",
    "print(model_final)\n",
    "\n",
    "\n"
   ]
  },
  {
   "cell_type": "code",
   "execution_count": 66,
   "id": "0b295188-8c23-40e0-86bb-e469c2967127",
   "metadata": {},
   "outputs": [
    {
     "data": {
      "image/png": "[encoded data removed]",
      "text/plain": [
       "<Figure size 432x288 with 1 Axes>"
      ]
     },
     "metadata": {
      "needs_background": "light"
     },
     "output_type": "display_data"
    }
   ],
   "source": [
    "# Store FPR, TPR, and threshold as variables.\n",
    "fpr, tpr, threshold = metrics.roc_curve(y_test, kNN.predict_proba(X_test)[:,1])\n",
    "# Store the AUC.\n",
    "roc_auc = metrics.auc(fpr, tpr)\n",
    "plt.title('Receiver Operating Characteristic')\n",
    "plt.plot(fpr, tpr, 'b', label = 'AUC = %0.2f' % roc_auc)\n",
    "plt.legend(loc = 'lower right')\n",
    "plt.plot([0, 1], [0, 1],'r--')\n",
    "plt.xlim([0, 1])\n",
    "plt.ylim([0, 1])\n",
    "plt.ylabel('True Positive Rate')\n",
    "plt.xlabel('False Positive Rate')\n",
    "plt.show()\n",
    "\n",
    "\n",
    "#######################################################\n",
    "####  CONGRATULATIONS ON COMPLETING THIS MODULE!   ####\n",
    "#######################################################\n"
   ]
  },
  {
   "cell_type": "code",
   "execution_count": 67,
   "id": "ca4af7c5-9ddf-4f33-9698-589602a3d964",
   "metadata": {},
   "outputs": [
    {
     "name": "stdout",
     "output_type": "stream",
     "text": [
      "cv_scores mean:0.5338734567901234\n",
      "Optimal cv score is: 0.5339\n"
     ]
    }
   ],
   "source": [
    "cv_pipeline = Pipeline([('transformer',  StandardScaler()), ('estimator', kNN)])\n",
    "cv_scores = cross_val_score(cv_pipeline, X, y, cv = 5)\n",
    "print(\"cv_scores mean:{}\".format(np.mean(cv_scores)))\n",
    "mean = np.mean(cv_scores)\n",
    "print(\"Optimal cv score is:\", round(mean, 4))"
   ]
  },
  {
   "cell_type": "code",
   "execution_count": 71,
   "id": "3cfd78b8-a37c-4834-ad70-bfa5082412ee",
   "metadata": {},
   "outputs": [
    {
     "name": "stdout",
     "output_type": "stream",
     "text": [
      "{'n_neighbors': [1, 2, 3, 4, 5, 6, 7, 8, 9, 10, 11, 12, 13, 14, 15, 16, 17, 18, 19, 20]}\n"
     ]
    },
    {
     "data": {
      "text/html": [
       "<style>#sk-container-id-4 {color: black;background-color: white;}#sk-container-id-4 pre{padding: 0;}#sk-container-id-4 div.sk-toggleable {background-color: white;}#sk-container-id-4 label.sk-toggleable__label {cursor: pointer;display: block;width: 100%;margin-bottom: 0;padding: 0.3em;box-sizing: border-box;text-align: center;}#sk-container-id-4 label.sk-toggleable__label-arrow:before {content: \"▸\";float: left;margin-right: 0.25em;color: #696969;}#sk-container-id-4 label.sk-toggleable__label-arrow:hover:before {color: black;}#sk-container-id-4 div.sk-estimator:hover label.sk-toggleable__label-arrow:before {color: black;}#sk-container-id-4 div.sk-toggleable__content {max-height: 0;max-width: 0;overflow: hidden;text-align: left;background-color: #f0f8ff;}#sk-container-id-4 div.sk-toggleable__content pre {margin: 0.2em;color: black;border-radius: 0.25em;background-color: #f0f8ff;}#sk-container-id-4 input.sk-toggleable__control:checked~div.sk-toggleable__content {max-height: 200px;max-width: 100%;overflow: auto;}#sk-container-id-4 input.sk-toggleable__control:checked~label.sk-toggleable__label-arrow:before {content: \"▾\";}#sk-container-id-4 div.sk-estimator input.sk-toggleable__control:checked~label.sk-toggleable__label {background-color: #d4ebff;}#sk-container-id-4 div.sk-label input.sk-toggleable__control:checked~label.sk-toggleable__label {background-color: #d4ebff;}#sk-container-id-4 input.sk-hidden--visually {border: 0;clip: rect(1px 1px 1px 1px);clip: rect(1px, 1px, 1px, 1px);height: 1px;margin: -1px;overflow: hidden;padding: 0;position: absolute;width: 1px;}#sk-container-id-4 div.sk-estimator {font-family: monospace;background-color: #f0f8ff;border: 1px dotted black;border-radius: 0.25em;box-sizing: border-box;margin-bottom: 0.5em;}#sk-container-id-4 div.sk-estimator:hover {background-color: #d4ebff;}#sk-container-id-4 div.sk-parallel-item::after {content: \"\";width: 100%;border-bottom: 1px solid gray;flex-grow: 1;}#sk-container-id-4 div.sk-label:hover label.sk-toggleable__label {background-color: #d4ebff;}#sk-container-id-4 div.sk-serial::before {content: \"\";position: absolute;border-left: 1px solid gray;box-sizing: border-box;top: 0;bottom: 0;left: 50%;z-index: 0;}#sk-container-id-4 div.sk-serial {display: flex;flex-direction: column;align-items: center;background-color: white;padding-right: 0.2em;padding-left: 0.2em;position: relative;}#sk-container-id-4 div.sk-item {position: relative;z-index: 1;}#sk-container-id-4 div.sk-parallel {display: flex;align-items: stretch;justify-content: center;background-color: white;position: relative;}#sk-container-id-4 div.sk-item::before, #sk-container-id-4 div.sk-parallel-item::before {content: \"\";position: absolute;border-left: 1px solid gray;box-sizing: border-box;top: 0;bottom: 0;left: 50%;z-index: -1;}#sk-container-id-4 div.sk-parallel-item {display: flex;flex-direction: column;z-index: 1;position: relative;background-color: white;}#sk-container-id-4 div.sk-parallel-item:first-child::after {align-self: flex-end;width: 50%;}#sk-container-id-4 div.sk-parallel-item:last-child::after {align-self: flex-start;width: 50%;}#sk-container-id-4 div.sk-parallel-item:only-child::after {width: 0;}#sk-container-id-4 div.sk-dashed-wrapped {border: 1px dashed gray;margin: 0 0.4em 0.5em 0.4em;box-sizing: border-box;padding-bottom: 0.4em;background-color: white;}#sk-container-id-4 div.sk-label label {font-family: monospace;font-weight: bold;display: inline-block;line-height: 1.2em;}#sk-container-id-4 div.sk-label-container {text-align: center;}#sk-container-id-4 div.sk-container {/* jupyter's `normalize.less` sets `[hidden] { display: none; }` but bootstrap.min.css set `[hidden] { display: none !important; }` so we also need the `!important` here to be able to override the default hidden behavior on the sphinx rendered scikit-learn.org. See: https://github.com/scikit-learn/scikit-learn/issues/21755 */display: inline-block !important;position: relative;}#sk-container-id-4 div.sk-text-repr-fallback {display: none;}</style><div id=\"sk-container-id-4\" class=\"sk-top-container\"><div class=\"sk-text-repr-fallback\"><pre>Pipeline(steps=[(&#x27;transformer&#x27;, StandardScaler()),\n",
       "                (&#x27;estimator&#x27;,\n",
       "                 GridSearchCV(cv=10,\n",
       "                              estimator=KNeighborsClassifier(n_neighbors=74),\n",
       "                              param_grid={&#x27;n_neighbors&#x27;: [1, 2, 3, 4, 5, 6, 7,\n",
       "                                                          8, 9, 10, 11, 12, 13,\n",
       "                                                          14, 15, 16, 17, 18,\n",
       "                                                          19, 20]},\n",
       "                              scoring=&#x27;recall&#x27;))])</pre><b>In a Jupyter environment, please rerun this cell to show the HTML representation or trust the notebook. <br />On GitHub, the HTML representation is unable to render, please try loading this page with nbviewer.org.</b></div><div class=\"sk-container\" hidden><div class=\"sk-item sk-dashed-wrapped\"><div class=\"sk-label-container\"><div class=\"sk-label sk-toggleable\"><input class=\"sk-toggleable__control sk-hidden--visually\" id=\"sk-estimator-id-14\" type=\"checkbox\" ><label for=\"sk-estimator-id-14\" class=\"sk-toggleable__label sk-toggleable__label-arrow\">Pipeline</label><div class=\"sk-toggleable__content\"><pre>Pipeline(steps=[(&#x27;transformer&#x27;, StandardScaler()),\n",
       "                (&#x27;estimator&#x27;,\n",
       "                 GridSearchCV(cv=10,\n",
       "                              estimator=KNeighborsClassifier(n_neighbors=74),\n",
       "                              param_grid={&#x27;n_neighbors&#x27;: [1, 2, 3, 4, 5, 6, 7,\n",
       "                                                          8, 9, 10, 11, 12, 13,\n",
       "                                                          14, 15, 16, 17, 18,\n",
       "                                                          19, 20]},\n",
       "                              scoring=&#x27;recall&#x27;))])</pre></div></div></div><div class=\"sk-serial\"><div class=\"sk-item\"><div class=\"sk-estimator sk-toggleable\"><input class=\"sk-toggleable__control sk-hidden--visually\" id=\"sk-estimator-id-15\" type=\"checkbox\" ><label for=\"sk-estimator-id-15\" class=\"sk-toggleable__label sk-toggleable__label-arrow\">StandardScaler</label><div class=\"sk-toggleable__content\"><pre>StandardScaler()</pre></div></div></div><div class=\"sk-item sk-dashed-wrapped\"><div class=\"sk-label-container\"><div class=\"sk-label sk-toggleable\"><input class=\"sk-toggleable__control sk-hidden--visually\" id=\"sk-estimator-id-16\" type=\"checkbox\" ><label for=\"sk-estimator-id-16\" class=\"sk-toggleable__label sk-toggleable__label-arrow\">estimator: GridSearchCV</label><div class=\"sk-toggleable__content\"><pre>GridSearchCV(cv=10, estimator=KNeighborsClassifier(n_neighbors=74),\n",
       "             param_grid={&#x27;n_neighbors&#x27;: [1, 2, 3, 4, 5, 6, 7, 8, 9, 10, 11, 12,\n",
       "                                         13, 14, 15, 16, 17, 18, 19, 20]},\n",
       "             scoring=&#x27;recall&#x27;)</pre></div></div></div><div class=\"sk-parallel\"><div class=\"sk-parallel-item\"><div class=\"sk-item\"><div class=\"sk-label-container\"><div class=\"sk-label sk-toggleable\"><input class=\"sk-toggleable__control sk-hidden--visually\" id=\"sk-estimator-id-17\" type=\"checkbox\" ><label for=\"sk-estimator-id-17\" class=\"sk-toggleable__label sk-toggleable__label-arrow\">estimator: KNeighborsClassifier</label><div class=\"sk-toggleable__content\"><pre>KNeighborsClassifier(n_neighbors=74)</pre></div></div></div><div class=\"sk-serial\"><div class=\"sk-item\"><div class=\"sk-estimator sk-toggleable\"><input class=\"sk-toggleable__control sk-hidden--visually\" id=\"sk-estimator-id-18\" type=\"checkbox\" ><label for=\"sk-estimator-id-18\" class=\"sk-toggleable__label sk-toggleable__label-arrow\">KNeighborsClassifier</label><div class=\"sk-toggleable__content\"><pre>KNeighborsClassifier(n_neighbors=74)</pre></div></div></div></div></div></div></div></div></div></div></div></div>"
      ],
      "text/plain": [
       "Pipeline(steps=[('transformer', StandardScaler()),\n",
       "                ('estimator',\n",
       "                 GridSearchCV(cv=10,\n",
       "                              estimator=KNeighborsClassifier(n_neighbors=74),\n",
       "                              param_grid={'n_neighbors': [1, 2, 3, 4, 5, 6, 7,\n",
       "                                                          8, 9, 10, 11, 12, 13,\n",
       "                                                          14, 15, 16, 17, 18,\n",
       "                                                          19, 20]},\n",
       "                              scoring='recall'))])"
      ]
     },
     "execution_count": 71,
     "metadata": {},
     "output_type": "execute_result"
    }
   ],
   "source": [
    "k_range = list(range(1, 21))\n",
    "param_grid = dict(n_neighbors = k_range)\n",
    "print(param_grid)\n",
    "grid = GridSearchCV(kNN, param_grid, cv = 10, scoring = 'recall')\n",
    "grid_search_pipeline = Pipeline([('transformer',  StandardScaler()), ('estimator', grid)])\n",
    "\n",
    "# Fit Gridsearch pipeline\n",
    "grid_search_pipeline.fit(X_train, y_train)\n",
    "\n",
    "\n",
    "\n"
   ]
  },
  {
   "cell_type": "code",
   "execution_count": 72,
   "id": "2d356662-4641-43da-9aaa-1688073d1e52",
   "metadata": {},
   "outputs": [
    {
     "name": "stdout",
     "output_type": "stream",
     "text": [
      "[0.4519718  0.20159774 0.41921742 0.2473797  0.40946554 0.25538534\n",
      " 0.38395113 0.25413095 0.36218296 0.24762343 0.35394048 0.2491203\n",
      " 0.33567231 0.25012531 0.32566541 0.24186842 0.32166479 0.24412343\n",
      " 0.31091165 0.23662281]\n"
     ]
    }
   ],
   "source": [
    "print(grid.cv_results_['mean_test_score'])\n"
   ]
  },
  {
   "cell_type": "code",
   "execution_count": 73,
   "id": "65d1441e-b9a6-48a7-91c8-8b3b6ea708ee",
   "metadata": {},
   "outputs": [
    {
     "name": "stdout",
     "output_type": "stream",
     "text": [
      "[0.4519718045112782, 0.20159774436090222, 0.4192174185463659, 0.2473796992481203, 0.4094655388471177, 0.2553853383458647, 0.3839511278195489, 0.2541309523809524, 0.3621829573934837, 0.2476234335839599, 0.3539404761904762, 0.24912030075187971, 0.335672305764411, 0.25012531328320803, 0.3256654135338346, 0.24186842105263157, 0.3216647869674185, 0.24412343358395994, 0.31091165413533833, 0.23662280701754385]\n"
     ]
    },
    {
     "data": {
      "image/png": "[encoded data removed]",
      "text/plain": [
       "<Figure size 432x288 with 1 Axes>"
      ]
     },
     "metadata": {
      "needs_background": "light"
     },
     "output_type": "display_data"
    }
   ],
   "source": [
    "grid_mean_scores = [result for result in grid.cv_results_['mean_test_score']]\n",
    "print(grid_mean_scores)\n",
    "_ = plt.plot(k_range, grid_mean_scores)\n",
    "_ = plt.xlabel('Value of K for kNN')\n",
    "_ = plt.ylabel('Cross-Validated Accuracy')\n",
    "plt.show()\n"
   ]
  },
  {
   "cell_type": "code",
   "execution_count": 74,
   "id": "f9ba6653-72a3-4df1-83e2-53bf8311d57e",
   "metadata": {},
   "outputs": [
    {
     "name": "stdout",
     "output_type": "stream",
     "text": [
      "0.4519718045112782\n",
      "{'n_neighbors': 1}\n",
      "KNeighborsClassifier(n_neighbors=1)\n"
     ]
    }
   ],
   "source": [
    "# Single best score achieved across all params (k).\n",
    "print(grid.best_score_)\n",
    "grid_score = grid.best_score_\n",
    "\n",
    "# Dictionary containing the parameters (k) used to generate that score.\n",
    "print(grid.best_params_)\n",
    "\n",
    "# Actual model object fit with those best parameters.\n",
    "# Shows default parameters that we did not specify.\n",
    "print(grid.best_estimator_)\n",
    "\n",
    "\n"
   ]
  },
  {
   "cell_type": "code",
   "execution_count": 75,
   "id": "5b0fb187-0605-47d9-abfe-ea62e5d0a636",
   "metadata": {},
   "outputs": [
    {
     "data": {
      "text/html": [
       "<div>\n",
       "<style scoped>\n",
       "    .dataframe tbody tr th:only-of-type {\n",
       "        vertical-align: middle;\n",
       "    }\n",
       "\n",
       "    .dataframe tbody tr th {\n",
       "        vertical-align: top;\n",
       "    }\n",
       "\n",
       "    .dataframe thead th {\n",
       "        text-align: right;\n",
       "    }\n",
       "</style>\n",
       "<table border=\"1\" class=\"dataframe\">\n",
       "  <thead>\n",
       "    <tr style=\"text-align: right;\">\n",
       "      <th></th>\n",
       "      <th>metrics</th>\n",
       "      <th>values</th>\n",
       "      <th>model</th>\n",
       "    </tr>\n",
       "  </thead>\n",
       "  <tbody>\n",
       "    <tr>\n",
       "      <th>0</th>\n",
       "      <td>accuracy</td>\n",
       "      <td>0.554</td>\n",
       "      <td>kNN_k</td>\n",
       "    </tr>\n",
       "  </tbody>\n",
       "</table>\n",
       "</div>"
      ],
      "text/plain": [
       "    metrics  values  model\n",
       "0  accuracy   0.554  kNN_k"
      ]
     },
     "execution_count": 75,
     "metadata": {},
     "output_type": "execute_result"
    }
   ],
   "source": [
    "model_final"
   ]
  },
  {
   "cell_type": "code",
   "execution_count": 76,
   "id": "f7ea5b67-12f6-4276-abbd-f0c776a1122e",
   "metadata": {},
   "outputs": [
    {
     "name": "stdout",
     "output_type": "stream",
     "text": [
      "    metrics  values             model\n",
      "0  accuracy   0.554             kNN_k\n",
      "1  accuracy   0.452  kNN_GridSearchCV\n"
     ]
    },
    {
     "name": "stderr",
     "output_type": "stream",
     "text": [
      "/var/folders/bx/98s7l1y96p1f_2n55v3g_3dc0000gn/T/ipykernel_35733/3161759597.py:1: FutureWarning: The frame.append method is deprecated and will be removed from pandas in a future version. Use pandas.concat instead.\n",
      "  model_final = model_final.append({'metrics' : \"accuracy\" ,\n"
     ]
    }
   ],
   "source": [
    "model_final = model_final.append({'metrics' : \"accuracy\" , \n",
    "                                  'values' : round(grid_score, 4),\n",
    "                                  'model':'kNN_GridSearchCV' } , \n",
    "                                  ignore_index = True)\n",
    "print(model_final)\n",
    "\n",
    "\n"
   ]
  },
  {
   "cell_type": "code",
   "execution_count": 77,
   "id": "8bc9f241-04f0-41e3-a08f-6b75466cdd0e",
   "metadata": {},
   "outputs": [
    {
     "name": "stdout",
     "output_type": "stream",
     "text": [
      "0.5120884773662552\n",
      "    metrics  values             model\n",
      "0  accuracy  0.5540             kNN_k\n",
      "1  accuracy  0.4520  kNN_GridSearchCV\n",
      "2  accuracy  0.5121     kNN_optimized\n"
     ]
    },
    {
     "name": "stderr",
     "output_type": "stream",
     "text": [
      "/var/folders/bx/98s7l1y96p1f_2n55v3g_3dc0000gn/T/ipykernel_35733/2094344796.py:7: FutureWarning: The frame.append method is deprecated and will be removed from pandas in a future version. Use pandas.concat instead.\n",
      "  model_final = model_final.append({'metrics' : \"accuracy\" ,\n"
     ]
    }
   ],
   "source": [
    "kNN_best = grid.best_estimator_\n",
    "\n",
    "# Check accuracy of our model on the test data.\n",
    "print(kNN_best.score(X_test, y_test))\n",
    "kNN_champ = kNN_best.score(X_test, y_test)\n",
    "\n",
    "model_final = model_final.append({'metrics' : \"accuracy\" , \n",
    "                                  'values' : round(kNN_champ, 4),\n",
    "                                  'model':'kNN_optimized' },\n",
    "                                ignore_index = True)\n",
    "print(model_final)\n",
    "\n",
    "\n",
    "\n"
   ]
  },
  {
   "cell_type": "code",
   "execution_count": 78,
   "id": "497bc054-11e7-4809-893d-243a21d6a124",
   "metadata": {},
   "outputs": [
    {
     "name": "stdout",
     "output_type": "stream",
     "text": [
      "False    7218\n",
      "True     5742\n",
      "Name: response, dtype: int64\n"
     ]
    },
    {
     "name": "stderr",
     "output_type": "stream",
     "text": [
      "/var/folders/bx/98s7l1y96p1f_2n55v3g_3dc0000gn/T/ipykernel_35733/2953734480.py:6: SettingWithCopyWarning: \n",
      "A value is trying to be set on a copy of a slice from a DataFrame.\n",
      "Try using .loc[row_indexer,col_indexer] = value instead\n",
      "\n",
      "See the caveats in the documentation: https://pandas.pydata.org/pandas-docs/stable/user_guide/indexing.html#returning-a-view-versus-a-copy\n",
      "  df_subset['response'] = np.where(df_subset.copy()[target_col] > 0,sell,buy)\n"
     ]
    }
   ],
   "source": [
    "X_train, X_test, y_train, y_test,y,X,df_subset = prep_data(df,subset_columns,'percent_change','logistic')"
   ]
  },
  {
   "cell_type": "code",
   "execution_count": 21,
   "id": "2e571341-6ea4-41e4-aa88-2c0ec3c7a73e",
   "metadata": {},
   "outputs": [
    {
     "name": "stdout",
     "output_type": "stream",
     "text": [
      "[[2087   44]\n",
      " [1713   44]]\n",
      "Accuracy on test data:  0.54809670781893\n"
     ]
    }
   ],
   "source": [
    "logistic_regression_model = linear_model.LogisticRegression()\n",
    "logistic_regression_model.fit(X_train, \n",
    "                              y_train)\n",
    "\n",
    "predicted_values = logistic_regression_model.predict(X_test)\n",
    "\n",
    "conf_matrix_test = metrics.confusion_matrix(y_test, predicted_values)\n",
    "print(conf_matrix_test)\n",
    "# Compute test model accuracy score.\n",
    "test_accuracy_score = metrics.accuracy_score(y_test, predicted_values)\n",
    "print(\"Accuracy on test data: \", test_accuracy_score)"
   ]
  },
  {
   "cell_type": "code",
   "execution_count": 22,
   "id": "7efcfb94-e8a2-4d04-97ee-a6495e6ab339",
   "metadata": {},
   "outputs": [
    {
     "name": "stdout",
     "output_type": "stream",
     "text": [
      "              precision    recall  f1-score   support\n",
      "\n",
      "       False       0.55      0.98      0.70      2131\n",
      "        True       0.50      0.03      0.05      1757\n",
      "\n",
      "    accuracy                           0.55      3888\n",
      "   macro avg       0.52      0.50      0.38      3888\n",
      "weighted avg       0.53      0.55      0.41      3888\n",
      "\n",
      "    metrics  values             model\n",
      "0  accuracy  0.5437             kNN_k\n",
      "1  accuracy  0.4315  kNN_GridSearchCV\n",
      "2  accuracy  1.0000     kNN_optimized\n",
      "3  accuracy  0.5481          logistic\n"
     ]
    },
    {
     "name": "stderr",
     "output_type": "stream",
     "text": [
      "/var/folders/bx/98s7l1y96p1f_2n55v3g_3dc0000gn/T/ipykernel_35733/3825435482.py:11: FutureWarning: The frame.append method is deprecated and will be removed from pandas in a future version. Use pandas.concat instead.\n",
      "  model_final = model_final.append({'metrics' : \"accuracy\" ,\n"
     ]
    }
   ],
   "source": [
    "# Create a list of target names to interpret class assignments.\n",
    "target_names = df_subset['response'].unique()\n",
    "target_names=target_names.tolist()\n",
    "target_names = [str(x) for x in target_names]\n",
    "# Print an entire classification report.\n",
    "class_report = metrics.classification_report(y_test, \n",
    "                                             predicted_values, \n",
    "                                             target_names = target_names)\n",
    "print(class_report)\n",
    "\n",
    "model_final = model_final.append({'metrics' : \"accuracy\" , \n",
    "                'values' : round(test_accuracy_score,4),\n",
    "                'model':'logistic' },ignore_index = True)\n",
    "print(model_final)"
   ]
  },
  {
   "cell_type": "code",
   "execution_count": 23,
   "id": "c1942800-ab99-4c3c-af6a-6059b77c1cc1",
   "metadata": {},
   "outputs": [
    {
     "name": "stdout",
     "output_type": "stream",
     "text": [
      "[[0.5788391  0.4211609 ]\n",
      " [0.57566339 0.42433661]\n",
      " [0.56574409 0.43425591]\n",
      " [0.56425603 0.43574397]\n",
      " [0.52403659 0.47596341]]\n",
      "[0.4211609  0.42433661 0.43425591 0.43574397 0.47596341]\n"
     ]
    }
   ],
   "source": [
    "# Get probabilities instead of predicted values.\n",
    "test_probabilities = logistic_regression_model.predict_proba(X_test)\n",
    "print(test_probabilities[0:5, :])\n",
    "# Get probabilities of test predictions only.\n",
    "test_predictions = test_probabilities[:, 1]\n",
    "print(test_predictions[0:5])\n"
   ]
  },
  {
   "cell_type": "code",
   "execution_count": 24,
   "id": "299c1245-3c85-4ba6-927c-dd0ecad3804a",
   "metadata": {},
   "outputs": [
    {
     "name": "stdout",
     "output_type": "stream",
     "text": [
      "False positive:  [0.         0.00046926 0.00093853 0.00093853 0.00422337]\n",
      "True positive:  [0.        0.        0.        0.0011383 0.0011383]\n",
      "Threshold:  [1.63876352 0.63876352 0.63828967 0.60367363 0.57381081]\n",
      "Area under the ROC curve:  0.5403995067527704\n"
     ]
    }
   ],
   "source": [
    "fpr, tpr, threshold = metrics.roc_curve(y_test,            #<- test data labels\n",
    "                                        test_predictions)  #<- predicted probabilities\n",
    "print(\"False positive: \", fpr[:5])\n",
    "print(\"True positive: \", tpr[:5])\n",
    "print(\"Threshold: \", threshold[:5])\n",
    "\n",
    "auc = metrics.auc(fpr, tpr)\n",
    "print(\"Area under the ROC curve: \", auc)"
   ]
  },
  {
   "cell_type": "code",
   "execution_count": 25,
   "id": "e9ae006d-2ab1-40d3-abcb-846b24f3c243",
   "metadata": {},
   "outputs": [
    {
     "data": {
      "image/png": "[encoded data removed]",
      "text/plain": [
       "<Figure size 432x288 with 1 Axes>"
      ]
     },
     "metadata": {
      "needs_background": "light"
     },
     "output_type": "display_data"
    }
   ],
   "source": [
    "# Make an ROC curve plot.\n",
    "plt.title('Receiver Operator Characteristic')\n",
    "plt.plot(fpr, tpr, 'b', label = 'AUC = %0.2f' % auc)\n",
    "plt.legend(loc = 'lower right')\n",
    "plt.plot([0, 1], [0, 1],'r--')\n",
    "plt.xlabel('False Positive Rate')\n",
    "plt.ylabel('True Positive Rate')\n",
    "plt.show()"
   ]
  },
  {
   "cell_type": "code",
   "execution_count": 26,
   "id": "930e8a48-9d14-4bec-89c5-465700d58532",
   "metadata": {},
   "outputs": [
    {
     "name": "stdout",
     "output_type": "stream",
     "text": [
      "Accuracy on train data:  0.5602954144620811\n",
      "Regularization constant:  [1.00000000e+00 1.29154967e+01 1.66810054e+02 2.15443469e+03\n",
      " 2.78255940e+04 3.59381366e+05 4.64158883e+06 5.99484250e+07\n",
      " 7.74263683e+08 1.00000000e+10]\n",
      "{'C': array([1.00000000e+00, 1.29154967e+01, 1.66810054e+02, 2.15443469e+03,\n",
      "       2.78255940e+04, 3.59381366e+05, 4.64158883e+06, 5.99484250e+07,\n",
      "       7.74263683e+08, 1.00000000e+10]), 'penalty': ['l1', 'l2']}\n",
      "Fitting 25 folds for each of 20 candidates, totalling 500 fits\n",
      "[CV] END ..................................C=1.0, penalty=l1; total time=   0.1s\n",
      "[CV] END ..................................C=1.0, penalty=l1; total time=   0.1s\n",
      "[CV] END ..................................C=1.0, penalty=l1; total time=   0.1s\n",
      "[CV] END ..................................C=1.0, penalty=l1; total time=   0.1s\n",
      "[CV] END ..................................C=1.0, penalty=l1; total time=   0.1s\n",
      "[CV] END ..................................C=1.0, penalty=l1; total time=   0.1s\n",
      "[CV] END ..................................C=1.0, penalty=l1; total time=   0.1s\n",
      "[CV] END ..................................C=1.0, penalty=l1; total time=   0.1s\n",
      "[CV] END ..................................C=1.0, penalty=l1; total time=   0.1s\n",
      "[CV] END ..................................C=1.0, penalty=l1; total time=   0.1s\n",
      "[CV] END ..................................C=1.0, penalty=l1; total time=   0.1s\n",
      "[CV] END ..................................C=1.0, penalty=l1; total time=   0.1s\n",
      "[CV] END ..................................C=1.0, penalty=l1; total time=   0.1s\n",
      "[CV] END ..................................C=1.0, penalty=l1; total time=   0.1s\n",
      "[CV] END ..................................C=1.0, penalty=l1; total time=   0.0s\n",
      "[CV] END ..................................C=1.0, penalty=l1; total time=   0.0s\n",
      "[CV] END ..................................C=1.0, penalty=l1; total time=   0.0s\n",
      "[CV] END ..................................C=1.0, penalty=l1; total time=   0.1s\n",
      "[CV] END ..................................C=1.0, penalty=l1; total time=   0.1s\n",
      "[CV] END ..................................C=1.0, penalty=l1; total time=   0.1s\n",
      "[CV] END ..................................C=1.0, penalty=l1; total time=   0.1s\n",
      "[CV] END ..................................C=1.0, penalty=l1; total time=   0.1s\n",
      "[CV] END ..................................C=1.0, penalty=l1; total time=   0.1s\n",
      "[CV] END ..................................C=1.0, penalty=l1; total time=   0.1s\n",
      "[CV] END ..................................C=1.0, penalty=l1; total time=   0.1s\n",
      "[CV] END ..................................C=1.0, penalty=l2; total time=   0.0s\n",
      "[CV] END ..................................C=1.0, penalty=l2; total time=   0.0s\n",
      "[CV] END ..................................C=1.0, penalty=l2; total time=   0.0s\n",
      "[CV] END ..................................C=1.0, penalty=l2; total time=   0.0s\n",
      "[CV] END ..................................C=1.0, penalty=l2; total time=   0.0s\n",
      "[CV] END ..................................C=1.0, penalty=l2; total time=   0.0s\n",
      "[CV] END ..................................C=1.0, penalty=l2; total time=   0.0s\n",
      "[CV] END ..................................C=1.0, penalty=l2; total time=   0.0s\n",
      "[CV] END ..................................C=1.0, penalty=l2; total time=   0.0s\n",
      "[CV] END ..................................C=1.0, penalty=l2; total time=   0.0s\n",
      "[CV] END ..................................C=1.0, penalty=l2; total time=   0.0s\n",
      "[CV] END ..................................C=1.0, penalty=l2; total time=   0.0s\n",
      "[CV] END ..................................C=1.0, penalty=l2; total time=   0.0s\n",
      "[CV] END ..................................C=1.0, penalty=l2; total time=   0.0s\n",
      "[CV] END ..................................C=1.0, penalty=l2; total time=   0.0s\n",
      "[CV] END ..................................C=1.0, penalty=l2; total time=   0.0s\n",
      "[CV] END ..................................C=1.0, penalty=l2; total time=   0.0s\n",
      "[CV] END ..................................C=1.0, penalty=l2; total time=   0.0s\n",
      "[CV] END ..................................C=1.0, penalty=l2; total time=   0.0s\n",
      "[CV] END ..................................C=1.0, penalty=l2; total time=   0.0s\n",
      "[CV] END ..................................C=1.0, penalty=l2; total time=   0.0s\n",
      "[CV] END ..................................C=1.0, penalty=l2; total time=   0.0s\n",
      "[CV] END ..................................C=1.0, penalty=l2; total time=   0.0s\n",
      "[CV] END ..................................C=1.0, penalty=l2; total time=   0.0s\n",
      "[CV] END ..................................C=1.0, penalty=l2; total time=   0.0s\n",
      "[CV] END ....................C=12.91549665014884, penalty=l1; total time=   0.0s\n",
      "[CV] END ....................C=12.91549665014884, penalty=l1; total time=   0.0s\n",
      "[CV] END ....................C=12.91549665014884, penalty=l1; total time=   0.0s\n",
      "[CV] END ....................C=12.91549665014884, penalty=l1; total time=   0.0s\n",
      "[CV] END ....................C=12.91549665014884, penalty=l1; total time=   0.0s\n",
      "[CV] END ....................C=12.91549665014884, penalty=l1; total time=   0.0s\n",
      "[CV] END ....................C=12.91549665014884, penalty=l1; total time=   0.0s\n",
      "[CV] END ....................C=12.91549665014884, penalty=l1; total time=   0.0s\n",
      "[CV] END ....................C=12.91549665014884, penalty=l1; total time=   0.0s\n",
      "[CV] END ....................C=12.91549665014884, penalty=l1; total time=   0.0s\n",
      "[CV] END ....................C=12.91549665014884, penalty=l1; total time=   0.0s\n",
      "[CV] END ....................C=12.91549665014884, penalty=l1; total time=   0.0s\n",
      "[CV] END ....................C=12.91549665014884, penalty=l1; total time=   0.0s\n",
      "[CV] END ....................C=12.91549665014884, penalty=l1; total time=   0.0s\n",
      "[CV] END ....................C=12.91549665014884, penalty=l1; total time=   0.0s\n",
      "[CV] END ....................C=12.91549665014884, penalty=l1; total time=   0.0s\n",
      "[CV] END ....................C=12.91549665014884, penalty=l1; total time=   0.0s\n",
      "[CV] END ....................C=12.91549665014884, penalty=l1; total time=   0.0s\n",
      "[CV] END ....................C=12.91549665014884, penalty=l1; total time=   0.0s\n",
      "[CV] END ....................C=12.91549665014884, penalty=l1; total time=   0.0s\n",
      "[CV] END ....................C=12.91549665014884, penalty=l1; total time=   0.0s\n",
      "[CV] END ....................C=12.91549665014884, penalty=l1; total time=   0.0s\n",
      "[CV] END ....................C=12.91549665014884, penalty=l1; total time=   0.0s\n",
      "[CV] END ....................C=12.91549665014884, penalty=l1; total time=   0.0s\n",
      "[CV] END ....................C=12.91549665014884, penalty=l1; total time=   0.0s\n",
      "[CV] END ....................C=12.91549665014884, penalty=l2; total time=   0.0s\n",
      "[CV] END ....................C=12.91549665014884, penalty=l2; total time=   0.0s\n",
      "[CV] END ....................C=12.91549665014884, penalty=l2; total time=   0.0s\n",
      "[CV] END ....................C=12.91549665014884, penalty=l2; total time=   0.0s\n",
      "[CV] END ....................C=12.91549665014884, penalty=l2; total time=   0.0s\n",
      "[CV] END ....................C=12.91549665014884, penalty=l2; total time=   0.0s\n",
      "[CV] END ....................C=12.91549665014884, penalty=l2; total time=   0.0s\n",
      "[CV] END ....................C=12.91549665014884, penalty=l2; total time=   0.0s\n",
      "[CV] END ....................C=12.91549665014884, penalty=l2; total time=   0.0s\n",
      "[CV] END ....................C=12.91549665014884, penalty=l2; total time=   0.0s\n",
      "[CV] END ....................C=12.91549665014884, penalty=l2; total time=   0.0s\n",
      "[CV] END ....................C=12.91549665014884, penalty=l2; total time=   0.0s\n",
      "[CV] END ....................C=12.91549665014884, penalty=l2; total time=   0.0s\n",
      "[CV] END ....................C=12.91549665014884, penalty=l2; total time=   0.0s\n",
      "[CV] END ....................C=12.91549665014884, penalty=l2; total time=   0.0s\n",
      "[CV] END ....................C=12.91549665014884, penalty=l2; total time=   0.0s\n",
      "[CV] END ....................C=12.91549665014884, penalty=l2; total time=   0.0s\n",
      "[CV] END ....................C=12.91549665014884, penalty=l2; total time=   0.0s\n",
      "[CV] END ....................C=12.91549665014884, penalty=l2; total time=   0.0s\n",
      "[CV] END ....................C=12.91549665014884, penalty=l2; total time=   0.0s\n",
      "[CV] END ....................C=12.91549665014884, penalty=l2; total time=   0.0s\n",
      "[CV] END ....................C=12.91549665014884, penalty=l2; total time=   0.0s\n",
      "[CV] END ....................C=12.91549665014884, penalty=l2; total time=   0.0s\n",
      "[CV] END ....................C=12.91549665014884, penalty=l2; total time=   0.0s\n",
      "[CV] END ....................C=12.91549665014884, penalty=l2; total time=   0.0s\n",
      "[CV] END ...................C=166.81005372000593, penalty=l1; total time=   0.0s\n",
      "[CV] END ...................C=166.81005372000593, penalty=l1; total time=   0.0s\n",
      "[CV] END ...................C=166.81005372000593, penalty=l1; total time=   0.0s\n",
      "[CV] END ...................C=166.81005372000593, penalty=l1; total time=   0.0s\n",
      "[CV] END ...................C=166.81005372000593, penalty=l1; total time=   0.0s\n",
      "[CV] END ...................C=166.81005372000593, penalty=l1; total time=   0.0s\n",
      "[CV] END ...................C=166.81005372000593, penalty=l1; total time=   0.0s\n",
      "[CV] END ...................C=166.81005372000593, penalty=l1; total time=   0.0s\n",
      "[CV] END ...................C=166.81005372000593, penalty=l1; total time=   0.0s\n",
      "[CV] END ...................C=166.81005372000593, penalty=l1; total time=   0.0s\n",
      "[CV] END ...................C=166.81005372000593, penalty=l1; total time=   0.0s\n",
      "[CV] END ...................C=166.81005372000593, penalty=l1; total time=   0.0s\n",
      "[CV] END ...................C=166.81005372000593, penalty=l1; total time=   0.0s\n",
      "[CV] END ...................C=166.81005372000593, penalty=l1; total time=   0.0s\n",
      "[CV] END ...................C=166.81005372000593, penalty=l1; total time=   0.0s\n",
      "[CV] END ...................C=166.81005372000593, penalty=l1; total time=   0.0s\n",
      "[CV] END ...................C=166.81005372000593, penalty=l1; total time=   0.0s\n",
      "[CV] END ...................C=166.81005372000593, penalty=l1; total time=   0.0s\n",
      "[CV] END ...................C=166.81005372000593, penalty=l1; total time=   0.0s\n",
      "[CV] END ...................C=166.81005372000593, penalty=l1; total time=   0.0s\n",
      "[CV] END ...................C=166.81005372000593, penalty=l1; total time=   0.0s\n",
      "[CV] END ...................C=166.81005372000593, penalty=l1; total time=   0.0s\n",
      "[CV] END ...................C=166.81005372000593, penalty=l1; total time=   0.0s\n",
      "[CV] END ...................C=166.81005372000593, penalty=l1; total time=   0.0s\n",
      "[CV] END ...................C=166.81005372000593, penalty=l1; total time=   0.0s\n",
      "[CV] END ...................C=166.81005372000593, penalty=l2; total time=   0.0s\n",
      "[CV] END ...................C=166.81005372000593, penalty=l2; total time=   0.0s\n",
      "[CV] END ...................C=166.81005372000593, penalty=l2; total time=   0.0s\n",
      "[CV] END ...................C=166.81005372000593, penalty=l2; total time=   0.0s\n",
      "[CV] END ...................C=166.81005372000593, penalty=l2; total time=   0.0s\n",
      "[CV] END ...................C=166.81005372000593, penalty=l2; total time=   0.0s\n",
      "[CV] END ...................C=166.81005372000593, penalty=l2; total time=   0.0s\n",
      "[CV] END ...................C=166.81005372000593, penalty=l2; total time=   0.0s\n",
      "[CV] END ...................C=166.81005372000593, penalty=l2; total time=   0.0s\n",
      "[CV] END ...................C=166.81005372000593, penalty=l2; total time=   0.0s\n",
      "[CV] END ...................C=166.81005372000593, penalty=l2; total time=   0.0s\n",
      "[CV] END ...................C=166.81005372000593, penalty=l2; total time=   0.0s\n",
      "[CV] END ...................C=166.81005372000593, penalty=l2; total time=   0.0s\n",
      "[CV] END ...................C=166.81005372000593, penalty=l2; total time=   0.0s\n",
      "[CV] END ...................C=166.81005372000593, penalty=l2; total time=   0.0s\n",
      "[CV] END ...................C=166.81005372000593, penalty=l2; total time=   0.0s\n",
      "[CV] END ...................C=166.81005372000593, penalty=l2; total time=   0.0s\n",
      "[CV] END ...................C=166.81005372000593, penalty=l2; total time=   0.0s\n",
      "[CV] END ...................C=166.81005372000593, penalty=l2; total time=   0.0s\n",
      "[CV] END ...................C=166.81005372000593, penalty=l2; total time=   0.0s\n",
      "[CV] END ...................C=166.81005372000593, penalty=l2; total time=   0.0s\n",
      "[CV] END ...................C=166.81005372000593, penalty=l2; total time=   0.0s\n",
      "[CV] END ...................C=166.81005372000593, penalty=l2; total time=   0.0s\n",
      "[CV] END ...................C=166.81005372000593, penalty=l2; total time=   0.0s\n",
      "[CV] END ...................C=166.81005372000593, penalty=l2; total time=   0.0s\n",
      "[CV] END ...................C=2154.4346900318847, penalty=l1; total time=   0.0s\n",
      "[CV] END ...................C=2154.4346900318847, penalty=l1; total time=   0.0s\n",
      "[CV] END ...................C=2154.4346900318847, penalty=l1; total time=   0.0s\n",
      "[CV] END ...................C=2154.4346900318847, penalty=l1; total time=   0.0s\n",
      "[CV] END ...................C=2154.4346900318847, penalty=l1; total time=   0.0s\n",
      "[CV] END ...................C=2154.4346900318847, penalty=l1; total time=   0.0s\n",
      "[CV] END ...................C=2154.4346900318847, penalty=l1; total time=   0.0s\n",
      "[CV] END ...................C=2154.4346900318847, penalty=l1; total time=   0.0s\n",
      "[CV] END ...................C=2154.4346900318847, penalty=l1; total time=   0.0s\n",
      "[CV] END ...................C=2154.4346900318847, penalty=l1; total time=   0.0s\n",
      "[CV] END ...................C=2154.4346900318847, penalty=l1; total time=   0.0s\n",
      "[CV] END ...................C=2154.4346900318847, penalty=l1; total time=   0.0s\n",
      "[CV] END ...................C=2154.4346900318847, penalty=l1; total time=   0.0s\n",
      "[CV] END ...................C=2154.4346900318847, penalty=l1; total time=   0.0s\n",
      "[CV] END ...................C=2154.4346900318847, penalty=l1; total time=   0.0s\n",
      "[CV] END ...................C=2154.4346900318847, penalty=l1; total time=   0.0s\n",
      "[CV] END ...................C=2154.4346900318847, penalty=l1; total time=   0.0s\n",
      "[CV] END ...................C=2154.4346900318847, penalty=l1; total time=   0.0s\n",
      "[CV] END ...................C=2154.4346900318847, penalty=l1; total time=   0.0s\n",
      "[CV] END ...................C=2154.4346900318847, penalty=l1; total time=   0.0s\n",
      "[CV] END ...................C=2154.4346900318847, penalty=l1; total time=   0.0s\n",
      "[CV] END ...................C=2154.4346900318847, penalty=l1; total time=   0.0s\n",
      "[CV] END ...................C=2154.4346900318847, penalty=l1; total time=   0.0s\n",
      "[CV] END ...................C=2154.4346900318847, penalty=l1; total time=   0.0s\n",
      "[CV] END ...................C=2154.4346900318847, penalty=l1; total time=   0.0s\n",
      "[CV] END ...................C=2154.4346900318847, penalty=l2; total time=   0.0s\n",
      "[CV] END ...................C=2154.4346900318847, penalty=l2; total time=   0.0s\n",
      "[CV] END ...................C=2154.4346900318847, penalty=l2; total time=   0.0s\n",
      "[CV] END ...................C=2154.4346900318847, penalty=l2; total time=   0.0s\n",
      "[CV] END ...................C=2154.4346900318847, penalty=l2; total time=   0.0s\n",
      "[CV] END ...................C=2154.4346900318847, penalty=l2; total time=   0.0s\n",
      "[CV] END ...................C=2154.4346900318847, penalty=l2; total time=   0.0s\n",
      "[CV] END ...................C=2154.4346900318847, penalty=l2; total time=   0.0s\n",
      "[CV] END ...................C=2154.4346900318847, penalty=l2; total time=   0.0s\n",
      "[CV] END ...................C=2154.4346900318847, penalty=l2; total time=   0.0s\n",
      "[CV] END ...................C=2154.4346900318847, penalty=l2; total time=   0.0s\n",
      "[CV] END ...................C=2154.4346900318847, penalty=l2; total time=   0.0s\n",
      "[CV] END ...................C=2154.4346900318847, penalty=l2; total time=   0.0s\n",
      "[CV] END ...................C=2154.4346900318847, penalty=l2; total time=   0.0s\n",
      "[CV] END ...................C=2154.4346900318847, penalty=l2; total time=   0.0s\n",
      "[CV] END ...................C=2154.4346900318847, penalty=l2; total time=   0.0s\n",
      "[CV] END ...................C=2154.4346900318847, penalty=l2; total time=   0.0s\n",
      "[CV] END ...................C=2154.4346900318847, penalty=l2; total time=   0.0s\n",
      "[CV] END ...................C=2154.4346900318847, penalty=l2; total time=   0.0s\n",
      "[CV] END ...................C=2154.4346900318847, penalty=l2; total time=   0.0s\n",
      "[CV] END ...................C=2154.4346900318847, penalty=l2; total time=   0.0s\n",
      "[CV] END ...................C=2154.4346900318847, penalty=l2; total time=   0.0s\n",
      "[CV] END ...................C=2154.4346900318847, penalty=l2; total time=   0.0s\n",
      "[CV] END ...................C=2154.4346900318847, penalty=l2; total time=   0.0s\n",
      "[CV] END ...................C=2154.4346900318847, penalty=l2; total time=   0.0s\n",
      "[CV] END ....................C=27825.59402207126, penalty=l1; total time=   0.0s\n",
      "[CV] END ....................C=27825.59402207126, penalty=l1; total time=   0.0s\n",
      "[CV] END ....................C=27825.59402207126, penalty=l1; total time=   0.0s\n",
      "[CV] END ....................C=27825.59402207126, penalty=l1; total time=   0.0s\n",
      "[CV] END ....................C=27825.59402207126, penalty=l1; total time=   0.0s\n",
      "[CV] END ....................C=27825.59402207126, penalty=l1; total time=   0.0s\n",
      "[CV] END ....................C=27825.59402207126, penalty=l1; total time=   0.0s\n",
      "[CV] END ....................C=27825.59402207126, penalty=l1; total time=   0.0s\n",
      "[CV] END ....................C=27825.59402207126, penalty=l1; total time=   0.0s\n",
      "[CV] END ....................C=27825.59402207126, penalty=l1; total time=   0.0s\n",
      "[CV] END ....................C=27825.59402207126, penalty=l1; total time=   0.0s\n",
      "[CV] END ....................C=27825.59402207126, penalty=l1; total time=   0.0s\n",
      "[CV] END ....................C=27825.59402207126, penalty=l1; total time=   0.0s\n",
      "[CV] END ....................C=27825.59402207126, penalty=l1; total time=   0.0s\n",
      "[CV] END ....................C=27825.59402207126, penalty=l1; total time=   0.0s\n",
      "[CV] END ....................C=27825.59402207126, penalty=l1; total time=   0.0s\n",
      "[CV] END ....................C=27825.59402207126, penalty=l1; total time=   0.0s\n",
      "[CV] END ....................C=27825.59402207126, penalty=l1; total time=   0.0s\n",
      "[CV] END ....................C=27825.59402207126, penalty=l1; total time=   0.0s\n",
      "[CV] END ....................C=27825.59402207126, penalty=l1; total time=   0.0s\n",
      "[CV] END ....................C=27825.59402207126, penalty=l1; total time=   0.0s\n",
      "[CV] END ....................C=27825.59402207126, penalty=l1; total time=   0.0s\n",
      "[CV] END ....................C=27825.59402207126, penalty=l1; total time=   0.0s\n",
      "[CV] END ....................C=27825.59402207126, penalty=l1; total time=   0.0s\n",
      "[CV] END ....................C=27825.59402207126, penalty=l1; total time=   0.0s\n",
      "[CV] END ....................C=27825.59402207126, penalty=l2; total time=   0.0s\n",
      "[CV] END ....................C=27825.59402207126, penalty=l2; total time=   0.0s\n",
      "[CV] END ....................C=27825.59402207126, penalty=l2; total time=   0.0s\n",
      "[CV] END ....................C=27825.59402207126, penalty=l2; total time=   0.0s\n",
      "[CV] END ....................C=27825.59402207126, penalty=l2; total time=   0.0s\n",
      "[CV] END ....................C=27825.59402207126, penalty=l2; total time=   0.0s\n",
      "[CV] END ....................C=27825.59402207126, penalty=l2; total time=   0.0s\n",
      "[CV] END ....................C=27825.59402207126, penalty=l2; total time=   0.0s\n",
      "[CV] END ....................C=27825.59402207126, penalty=l2; total time=   0.0s\n",
      "[CV] END ....................C=27825.59402207126, penalty=l2; total time=   0.0s\n",
      "[CV] END ....................C=27825.59402207126, penalty=l2; total time=   0.0s\n",
      "[CV] END ....................C=27825.59402207126, penalty=l2; total time=   0.0s\n",
      "[CV] END ....................C=27825.59402207126, penalty=l2; total time=   0.0s\n",
      "[CV] END ....................C=27825.59402207126, penalty=l2; total time=   0.0s\n",
      "[CV] END ....................C=27825.59402207126, penalty=l2; total time=   0.0s\n",
      "[CV] END ....................C=27825.59402207126, penalty=l2; total time=   0.0s\n",
      "[CV] END ....................C=27825.59402207126, penalty=l2; total time=   0.0s\n",
      "[CV] END ....................C=27825.59402207126, penalty=l2; total time=   0.0s\n",
      "[CV] END ....................C=27825.59402207126, penalty=l2; total time=   0.0s\n",
      "[CV] END ....................C=27825.59402207126, penalty=l2; total time=   0.0s\n",
      "[CV] END ....................C=27825.59402207126, penalty=l2; total time=   0.0s\n",
      "[CV] END ....................C=27825.59402207126, penalty=l2; total time=   0.0s\n",
      "[CV] END ....................C=27825.59402207126, penalty=l2; total time=   0.0s\n",
      "[CV] END ....................C=27825.59402207126, penalty=l2; total time=   0.0s\n",
      "[CV] END ....................C=27825.59402207126, penalty=l2; total time=   0.0s\n",
      "[CV] END ...................C=359381.36638046254, penalty=l1; total time=   0.0s\n",
      "[CV] END ...................C=359381.36638046254, penalty=l1; total time=   0.0s\n",
      "[CV] END ...................C=359381.36638046254, penalty=l1; total time=   0.0s\n",
      "[CV] END ...................C=359381.36638046254, penalty=l1; total time=   0.0s\n",
      "[CV] END ...................C=359381.36638046254, penalty=l1; total time=   0.0s\n",
      "[CV] END ...................C=359381.36638046254, penalty=l1; total time=   0.0s\n",
      "[CV] END ...................C=359381.36638046254, penalty=l1; total time=   0.0s\n",
      "[CV] END ...................C=359381.36638046254, penalty=l1; total time=   0.0s\n",
      "[CV] END ...................C=359381.36638046254, penalty=l1; total time=   0.0s\n",
      "[CV] END ...................C=359381.36638046254, penalty=l1; total time=   0.0s\n",
      "[CV] END ...................C=359381.36638046254, penalty=l1; total time=   0.0s\n",
      "[CV] END ...................C=359381.36638046254, penalty=l1; total time=   0.0s\n",
      "[CV] END ...................C=359381.36638046254, penalty=l1; total time=   0.0s\n",
      "[CV] END ...................C=359381.36638046254, penalty=l1; total time=   0.0s\n",
      "[CV] END ...................C=359381.36638046254, penalty=l1; total time=   0.0s\n",
      "[CV] END ...................C=359381.36638046254, penalty=l1; total time=   0.0s\n",
      "[CV] END ...................C=359381.36638046254, penalty=l1; total time=   0.0s\n",
      "[CV] END ...................C=359381.36638046254, penalty=l1; total time=   0.0s\n",
      "[CV] END ...................C=359381.36638046254, penalty=l1; total time=   0.0s\n",
      "[CV] END ...................C=359381.36638046254, penalty=l1; total time=   0.0s\n",
      "[CV] END ...................C=359381.36638046254, penalty=l1; total time=   0.0s\n",
      "[CV] END ...................C=359381.36638046254, penalty=l1; total time=   0.0s\n",
      "[CV] END ...................C=359381.36638046254, penalty=l1; total time=   0.0s\n",
      "[CV] END ...................C=359381.36638046254, penalty=l1; total time=   0.0s\n",
      "[CV] END ...................C=359381.36638046254, penalty=l1; total time=   0.0s\n",
      "[CV] END ...................C=359381.36638046254, penalty=l2; total time=   0.0s\n",
      "[CV] END ...................C=359381.36638046254, penalty=l2; total time=   0.0s\n",
      "[CV] END ...................C=359381.36638046254, penalty=l2; total time=   0.0s\n",
      "[CV] END ...................C=359381.36638046254, penalty=l2; total time=   0.0s\n",
      "[CV] END ...................C=359381.36638046254, penalty=l2; total time=   0.0s\n",
      "[CV] END ...................C=359381.36638046254, penalty=l2; total time=   0.0s\n",
      "[CV] END ...................C=359381.36638046254, penalty=l2; total time=   0.0s\n",
      "[CV] END ...................C=359381.36638046254, penalty=l2; total time=   0.0s\n",
      "[CV] END ...................C=359381.36638046254, penalty=l2; total time=   0.0s\n",
      "[CV] END ...................C=359381.36638046254, penalty=l2; total time=   0.0s\n",
      "[CV] END ...................C=359381.36638046254, penalty=l2; total time=   0.1s\n",
      "[CV] END ...................C=359381.36638046254, penalty=l2; total time=   0.1s\n",
      "[CV] END ...................C=359381.36638046254, penalty=l2; total time=   0.1s\n",
      "[CV] END ...................C=359381.36638046254, penalty=l2; total time=   0.1s\n",
      "[CV] END ...................C=359381.36638046254, penalty=l2; total time=   0.1s\n",
      "[CV] END ...................C=359381.36638046254, penalty=l2; total time=   0.1s\n",
      "[CV] END ...................C=359381.36638046254, penalty=l2; total time=   0.1s\n",
      "[CV] END ...................C=359381.36638046254, penalty=l2; total time=   0.1s\n",
      "[CV] END ...................C=359381.36638046254, penalty=l2; total time=   0.1s\n",
      "[CV] END ...................C=359381.36638046254, penalty=l2; total time=   0.1s\n",
      "[CV] END ...................C=359381.36638046254, penalty=l2; total time=   0.1s\n",
      "[CV] END ...................C=359381.36638046254, penalty=l2; total time=   0.1s\n",
      "[CV] END ...................C=359381.36638046254, penalty=l2; total time=   0.0s\n",
      "[CV] END ...................C=359381.36638046254, penalty=l2; total time=   0.0s\n",
      "[CV] END ...................C=359381.36638046254, penalty=l2; total time=   0.0s\n",
      "[CV] END ....................C=4641588.833612782, penalty=l1; total time=   0.1s\n",
      "[CV] END ....................C=4641588.833612782, penalty=l1; total time=   0.1s\n",
      "[CV] END ....................C=4641588.833612782, penalty=l1; total time=   0.1s\n",
      "[CV] END ....................C=4641588.833612782, penalty=l1; total time=   0.1s\n",
      "[CV] END ....................C=4641588.833612782, penalty=l1; total time=   0.1s\n",
      "[CV] END ....................C=4641588.833612782, penalty=l1; total time=   0.1s\n",
      "[CV] END ....................C=4641588.833612782, penalty=l1; total time=   0.1s\n",
      "[CV] END ....................C=4641588.833612782, penalty=l1; total time=   0.1s\n",
      "[CV] END ....................C=4641588.833612782, penalty=l1; total time=   0.1s\n",
      "[CV] END ....................C=4641588.833612782, penalty=l1; total time=   0.1s\n",
      "[CV] END ....................C=4641588.833612782, penalty=l1; total time=   0.1s\n",
      "[CV] END ....................C=4641588.833612782, penalty=l1; total time=   0.1s\n",
      "[CV] END ....................C=4641588.833612782, penalty=l1; total time=   0.0s\n",
      "[CV] END ....................C=4641588.833612782, penalty=l1; total time=   0.0s\n",
      "[CV] END ....................C=4641588.833612782, penalty=l1; total time=   0.0s\n",
      "[CV] END ....................C=4641588.833612782, penalty=l1; total time=   0.0s\n",
      "[CV] END ....................C=4641588.833612782, penalty=l1; total time=   0.0s\n",
      "[CV] END ....................C=4641588.833612782, penalty=l1; total time=   0.0s\n",
      "[CV] END ....................C=4641588.833612782, penalty=l1; total time=   0.0s\n",
      "[CV] END ....................C=4641588.833612782, penalty=l1; total time=   0.0s\n",
      "[CV] END ....................C=4641588.833612782, penalty=l1; total time=   0.0s\n",
      "[CV] END ....................C=4641588.833612782, penalty=l1; total time=   0.0s\n",
      "[CV] END ....................C=4641588.833612782, penalty=l1; total time=   0.0s\n",
      "[CV] END ....................C=4641588.833612782, penalty=l1; total time=   0.0s\n",
      "[CV] END ....................C=4641588.833612782, penalty=l1; total time=   0.0s\n",
      "[CV] END ....................C=4641588.833612782, penalty=l2; total time=   0.0s\n",
      "[CV] END ....................C=4641588.833612782, penalty=l2; total time=   0.0s\n",
      "[CV] END ....................C=4641588.833612782, penalty=l2; total time=   0.0s\n",
      "[CV] END ....................C=4641588.833612782, penalty=l2; total time=   0.0s\n",
      "[CV] END ....................C=4641588.833612782, penalty=l2; total time=   0.0s\n",
      "[CV] END ....................C=4641588.833612782, penalty=l2; total time=   0.0s\n",
      "[CV] END ....................C=4641588.833612782, penalty=l2; total time=   0.0s\n",
      "[CV] END ....................C=4641588.833612782, penalty=l2; total time=   0.0s\n",
      "[CV] END ....................C=4641588.833612782, penalty=l2; total time=   0.0s\n",
      "[CV] END ....................C=4641588.833612782, penalty=l2; total time=   0.0s\n",
      "[CV] END ....................C=4641588.833612782, penalty=l2; total time=   0.0s\n",
      "[CV] END ....................C=4641588.833612782, penalty=l2; total time=   0.0s\n",
      "[CV] END ....................C=4641588.833612782, penalty=l2; total time=   0.0s\n",
      "[CV] END ....................C=4641588.833612782, penalty=l2; total time=   0.0s\n",
      "[CV] END ....................C=4641588.833612782, penalty=l2; total time=   0.0s\n",
      "[CV] END ....................C=4641588.833612782, penalty=l2; total time=   0.0s\n",
      "[CV] END ....................C=4641588.833612782, penalty=l2; total time=   0.0s\n",
      "[CV] END ....................C=4641588.833612782, penalty=l2; total time=   0.0s\n",
      "[CV] END ....................C=4641588.833612782, penalty=l2; total time=   0.0s\n",
      "[CV] END ....................C=4641588.833612782, penalty=l2; total time=   0.0s\n",
      "[CV] END ....................C=4641588.833612782, penalty=l2; total time=   0.1s\n",
      "[CV] END ....................C=4641588.833612782, penalty=l2; total time=   0.0s\n",
      "[CV] END ....................C=4641588.833612782, penalty=l2; total time=   0.0s\n",
      "[CV] END ....................C=4641588.833612782, penalty=l2; total time=   0.0s\n",
      "[CV] END ....................C=4641588.833612782, penalty=l2; total time=   0.0s\n",
      "[CV] END ....................C=59948425.03189421, penalty=l1; total time=   0.0s\n",
      "[CV] END ....................C=59948425.03189421, penalty=l1; total time=   0.0s\n",
      "[CV] END ....................C=59948425.03189421, penalty=l1; total time=   0.0s\n",
      "[CV] END ....................C=59948425.03189421, penalty=l1; total time=   0.0s\n",
      "[CV] END ....................C=59948425.03189421, penalty=l1; total time=   0.0s\n",
      "[CV] END ....................C=59948425.03189421, penalty=l1; total time=   0.0s\n",
      "[CV] END ....................C=59948425.03189421, penalty=l1; total time=   0.0s\n",
      "[CV] END ....................C=59948425.03189421, penalty=l1; total time=   0.0s\n",
      "[CV] END ....................C=59948425.03189421, penalty=l1; total time=   0.0s\n",
      "[CV] END ....................C=59948425.03189421, penalty=l1; total time=   0.0s\n",
      "[CV] END ....................C=59948425.03189421, penalty=l1; total time=   0.0s\n",
      "[CV] END ....................C=59948425.03189421, penalty=l1; total time=   0.0s\n",
      "[CV] END ....................C=59948425.03189421, penalty=l1; total time=   0.0s\n",
      "[CV] END ....................C=59948425.03189421, penalty=l1; total time=   0.0s\n",
      "[CV] END ....................C=59948425.03189421, penalty=l1; total time=   0.0s\n",
      "[CV] END ....................C=59948425.03189421, penalty=l1; total time=   0.0s\n",
      "[CV] END ....................C=59948425.03189421, penalty=l1; total time=   0.0s\n",
      "[CV] END ....................C=59948425.03189421, penalty=l1; total time=   0.0s\n",
      "[CV] END ....................C=59948425.03189421, penalty=l1; total time=   0.0s\n",
      "[CV] END ....................C=59948425.03189421, penalty=l1; total time=   0.0s\n",
      "[CV] END ....................C=59948425.03189421, penalty=l1; total time=   0.0s\n",
      "[CV] END ....................C=59948425.03189421, penalty=l1; total time=   0.0s\n",
      "[CV] END ....................C=59948425.03189421, penalty=l1; total time=   0.0s\n",
      "[CV] END ....................C=59948425.03189421, penalty=l1; total time=   0.0s\n",
      "[CV] END ....................C=59948425.03189421, penalty=l1; total time=   0.0s\n",
      "[CV] END ....................C=59948425.03189421, penalty=l2; total time=   0.0s\n",
      "[CV] END ....................C=59948425.03189421, penalty=l2; total time=   0.0s\n",
      "[CV] END ....................C=59948425.03189421, penalty=l2; total time=   0.0s\n",
      "[CV] END ....................C=59948425.03189421, penalty=l2; total time=   0.0s\n",
      "[CV] END ....................C=59948425.03189421, penalty=l2; total time=   0.0s\n",
      "[CV] END ....................C=59948425.03189421, penalty=l2; total time=   0.0s\n",
      "[CV] END ....................C=59948425.03189421, penalty=l2; total time=   0.0s\n",
      "[CV] END ....................C=59948425.03189421, penalty=l2; total time=   0.0s\n",
      "[CV] END ....................C=59948425.03189421, penalty=l2; total time=   0.0s\n",
      "[CV] END ....................C=59948425.03189421, penalty=l2; total time=   0.0s\n",
      "[CV] END ....................C=59948425.03189421, penalty=l2; total time=   0.0s\n",
      "[CV] END ....................C=59948425.03189421, penalty=l2; total time=   0.0s\n",
      "[CV] END ....................C=59948425.03189421, penalty=l2; total time=   0.0s\n",
      "[CV] END ....................C=59948425.03189421, penalty=l2; total time=   0.0s\n",
      "[CV] END ....................C=59948425.03189421, penalty=l2; total time=   0.0s\n",
      "[CV] END ....................C=59948425.03189421, penalty=l2; total time=   0.0s\n",
      "[CV] END ....................C=59948425.03189421, penalty=l2; total time=   0.0s\n",
      "[CV] END ....................C=59948425.03189421, penalty=l2; total time=   0.0s\n",
      "[CV] END ....................C=59948425.03189421, penalty=l2; total time=   0.0s\n",
      "[CV] END ....................C=59948425.03189421, penalty=l2; total time=   0.0s\n",
      "[CV] END ....................C=59948425.03189421, penalty=l2; total time=   0.0s\n",
      "[CV] END ....................C=59948425.03189421, penalty=l2; total time=   0.0s\n",
      "[CV] END ....................C=59948425.03189421, penalty=l2; total time=   0.0s\n",
      "[CV] END ....................C=59948425.03189421, penalty=l2; total time=   0.0s\n",
      "[CV] END ....................C=59948425.03189421, penalty=l2; total time=   0.0s\n",
      "[CV] END ....................C=774263682.6811278, penalty=l1; total time=   0.0s\n",
      "[CV] END ....................C=774263682.6811278, penalty=l1; total time=   0.0s\n",
      "[CV] END ....................C=774263682.6811278, penalty=l1; total time=   0.0s\n",
      "[CV] END ....................C=774263682.6811278, penalty=l1; total time=   0.0s\n",
      "[CV] END ....................C=774263682.6811278, penalty=l1; total time=   0.0s\n",
      "[CV] END ....................C=774263682.6811278, penalty=l1; total time=   0.0s\n",
      "[CV] END ....................C=774263682.6811278, penalty=l1; total time=   0.0s\n",
      "[CV] END ....................C=774263682.6811278, penalty=l1; total time=   0.0s\n",
      "[CV] END ....................C=774263682.6811278, penalty=l1; total time=   0.0s\n",
      "[CV] END ....................C=774263682.6811278, penalty=l1; total time=   0.0s\n",
      "[CV] END ....................C=774263682.6811278, penalty=l1; total time=   0.0s\n",
      "[CV] END ....................C=774263682.6811278, penalty=l1; total time=   0.0s\n",
      "[CV] END ....................C=774263682.6811278, penalty=l1; total time=   0.0s\n",
      "[CV] END ....................C=774263682.6811278, penalty=l1; total time=   0.0s\n",
      "[CV] END ....................C=774263682.6811278, penalty=l1; total time=   0.0s\n",
      "[CV] END ....................C=774263682.6811278, penalty=l1; total time=   0.0s\n",
      "[CV] END ....................C=774263682.6811278, penalty=l1; total time=   0.0s\n",
      "[CV] END ....................C=774263682.6811278, penalty=l1; total time=   0.0s\n",
      "[CV] END ....................C=774263682.6811278, penalty=l1; total time=   0.0s\n",
      "[CV] END ....................C=774263682.6811278, penalty=l1; total time=   0.0s\n",
      "[CV] END ....................C=774263682.6811278, penalty=l1; total time=   0.0s\n",
      "[CV] END ....................C=774263682.6811278, penalty=l1; total time=   0.0s\n",
      "[CV] END ....................C=774263682.6811278, penalty=l1; total time=   0.0s\n",
      "[CV] END ....................C=774263682.6811278, penalty=l1; total time=   0.0s\n",
      "[CV] END ....................C=774263682.6811278, penalty=l1; total time=   0.0s\n",
      "[CV] END ....................C=774263682.6811278, penalty=l2; total time=   0.0s\n",
      "[CV] END ....................C=774263682.6811278, penalty=l2; total time=   0.0s\n",
      "[CV] END ....................C=774263682.6811278, penalty=l2; total time=   0.0s\n",
      "[CV] END ....................C=774263682.6811278, penalty=l2; total time=   0.0s\n",
      "[CV] END ....................C=774263682.6811278, penalty=l2; total time=   0.0s\n",
      "[CV] END ....................C=774263682.6811278, penalty=l2; total time=   0.0s\n",
      "[CV] END ....................C=774263682.6811278, penalty=l2; total time=   0.0s\n",
      "[CV] END ....................C=774263682.6811278, penalty=l2; total time=   0.0s\n",
      "[CV] END ....................C=774263682.6811278, penalty=l2; total time=   0.0s\n",
      "[CV] END ....................C=774263682.6811278, penalty=l2; total time=   0.0s\n",
      "[CV] END ....................C=774263682.6811278, penalty=l2; total time=   0.0s\n",
      "[CV] END ....................C=774263682.6811278, penalty=l2; total time=   0.0s\n",
      "[CV] END ....................C=774263682.6811278, penalty=l2; total time=   0.0s\n",
      "[CV] END ....................C=774263682.6811278, penalty=l2; total time=   0.0s\n",
      "[CV] END ....................C=774263682.6811278, penalty=l2; total time=   0.0s\n",
      "[CV] END ....................C=774263682.6811278, penalty=l2; total time=   0.0s\n",
      "[CV] END ....................C=774263682.6811278, penalty=l2; total time=   0.0s\n",
      "[CV] END ....................C=774263682.6811278, penalty=l2; total time=   0.0s\n",
      "[CV] END ....................C=774263682.6811278, penalty=l2; total time=   0.0s\n",
      "[CV] END ....................C=774263682.6811278, penalty=l2; total time=   0.0s\n",
      "[CV] END ....................C=774263682.6811278, penalty=l2; total time=   0.0s\n",
      "[CV] END ....................C=774263682.6811278, penalty=l2; total time=   0.0s\n",
      "[CV] END ....................C=774263682.6811278, penalty=l2; total time=   0.0s\n",
      "[CV] END ....................C=774263682.6811278, penalty=l2; total time=   0.0s\n",
      "[CV] END ....................C=774263682.6811278, penalty=l2; total time=   0.0s\n",
      "[CV] END ........................C=10000000000.0, penalty=l1; total time=   0.0s\n",
      "[CV] END ........................C=10000000000.0, penalty=l1; total time=   0.0s\n",
      "[CV] END ........................C=10000000000.0, penalty=l1; total time=   0.0s\n",
      "[CV] END ........................C=10000000000.0, penalty=l1; total time=   0.0s\n",
      "[CV] END ........................C=10000000000.0, penalty=l1; total time=   0.0s\n",
      "[CV] END ........................C=10000000000.0, penalty=l1; total time=   0.0s\n",
      "[CV] END ........................C=10000000000.0, penalty=l1; total time=   0.0s\n",
      "[CV] END ........................C=10000000000.0, penalty=l1; total time=   0.0s\n",
      "[CV] END ........................C=10000000000.0, penalty=l1; total time=   0.0s\n",
      "[CV] END ........................C=10000000000.0, penalty=l1; total time=   0.0s\n",
      "[CV] END ........................C=10000000000.0, penalty=l1; total time=   0.0s\n",
      "[CV] END ........................C=10000000000.0, penalty=l1; total time=   0.0s\n",
      "[CV] END ........................C=10000000000.0, penalty=l1; total time=   0.0s\n",
      "[CV] END ........................C=10000000000.0, penalty=l1; total time=   0.0s\n",
      "[CV] END ........................C=10000000000.0, penalty=l1; total time=   0.0s\n",
      "[CV] END ........................C=10000000000.0, penalty=l1; total time=   0.0s\n",
      "[CV] END ........................C=10000000000.0, penalty=l1; total time=   0.0s\n",
      "[CV] END ........................C=10000000000.0, penalty=l1; total time=   0.0s\n",
      "[CV] END ........................C=10000000000.0, penalty=l1; total time=   0.0s\n",
      "[CV] END ........................C=10000000000.0, penalty=l1; total time=   0.0s\n",
      "[CV] END ........................C=10000000000.0, penalty=l1; total time=   0.0s\n",
      "[CV] END ........................C=10000000000.0, penalty=l1; total time=   0.0s\n",
      "[CV] END ........................C=10000000000.0, penalty=l1; total time=   0.0s\n",
      "[CV] END ........................C=10000000000.0, penalty=l1; total time=   0.0s\n",
      "[CV] END ........................C=10000000000.0, penalty=l1; total time=   0.0s\n",
      "[CV] END ........................C=10000000000.0, penalty=l2; total time=   0.0s\n",
      "[CV] END ........................C=10000000000.0, penalty=l2; total time=   0.0s\n",
      "[CV] END ........................C=10000000000.0, penalty=l2; total time=   0.0s\n",
      "[CV] END ........................C=10000000000.0, penalty=l2; total time=   0.0s\n",
      "[CV] END ........................C=10000000000.0, penalty=l2; total time=   0.0s\n",
      "[CV] END ........................C=10000000000.0, penalty=l2; total time=   0.0s\n",
      "[CV] END ........................C=10000000000.0, penalty=l2; total time=   0.0s\n",
      "[CV] END ........................C=10000000000.0, penalty=l2; total time=   0.0s\n",
      "[CV] END ........................C=10000000000.0, penalty=l2; total time=   0.0s\n",
      "[CV] END ........................C=10000000000.0, penalty=l2; total time=   0.0s\n",
      "[CV] END ........................C=10000000000.0, penalty=l2; total time=   0.0s\n",
      "[CV] END ........................C=10000000000.0, penalty=l2; total time=   0.0s\n",
      "[CV] END ........................C=10000000000.0, penalty=l2; total time=   0.0s\n",
      "[CV] END ........................C=10000000000.0, penalty=l2; total time=   0.0s\n",
      "[CV] END ........................C=10000000000.0, penalty=l2; total time=   0.1s\n",
      "[CV] END ........................C=10000000000.0, penalty=l2; total time=   0.0s\n",
      "[CV] END ........................C=10000000000.0, penalty=l2; total time=   0.0s\n",
      "[CV] END ........................C=10000000000.0, penalty=l2; total time=   0.0s\n",
      "[CV] END ........................C=10000000000.0, penalty=l2; total time=   0.0s\n",
      "[CV] END ........................C=10000000000.0, penalty=l2; total time=   0.0s\n",
      "[CV] END ........................C=10000000000.0, penalty=l2; total time=   0.0s\n",
      "[CV] END ........................C=10000000000.0, penalty=l2; total time=   0.0s\n",
      "[CV] END ........................C=10000000000.0, penalty=l2; total time=   0.0s\n",
      "[CV] END ........................C=10000000000.0, penalty=l2; total time=   0.0s\n",
      "[CV] END ........................C=10000000000.0, penalty=l2; total time=   0.0s\n"
     ]
    },
    {
     "data": {
      "text/html": [
       "<style>#sk-container-id-2 {color: black;background-color: white;}#sk-container-id-2 pre{padding: 0;}#sk-container-id-2 div.sk-toggleable {background-color: white;}#sk-container-id-2 label.sk-toggleable__label {cursor: pointer;display: block;width: 100%;margin-bottom: 0;padding: 0.3em;box-sizing: border-box;text-align: center;}#sk-container-id-2 label.sk-toggleable__label-arrow:before {content: \"▸\";float: left;margin-right: 0.25em;color: #696969;}#sk-container-id-2 label.sk-toggleable__label-arrow:hover:before {color: black;}#sk-container-id-2 div.sk-estimator:hover label.sk-toggleable__label-arrow:before {color: black;}#sk-container-id-2 div.sk-toggleable__content {max-height: 0;max-width: 0;overflow: hidden;text-align: left;background-color: #f0f8ff;}#sk-container-id-2 div.sk-toggleable__content pre {margin: 0.2em;color: black;border-radius: 0.25em;background-color: #f0f8ff;}#sk-container-id-2 input.sk-toggleable__control:checked~div.sk-toggleable__content {max-height: 200px;max-width: 100%;overflow: auto;}#sk-container-id-2 input.sk-toggleable__control:checked~label.sk-toggleable__label-arrow:before {content: \"▾\";}#sk-container-id-2 div.sk-estimator input.sk-toggleable__control:checked~label.sk-toggleable__label {background-color: #d4ebff;}#sk-container-id-2 div.sk-label input.sk-toggleable__control:checked~label.sk-toggleable__label {background-color: #d4ebff;}#sk-container-id-2 input.sk-hidden--visually {border: 0;clip: rect(1px 1px 1px 1px);clip: rect(1px, 1px, 1px, 1px);height: 1px;margin: -1px;overflow: hidden;padding: 0;position: absolute;width: 1px;}#sk-container-id-2 div.sk-estimator {font-family: monospace;background-color: #f0f8ff;border: 1px dotted black;border-radius: 0.25em;box-sizing: border-box;margin-bottom: 0.5em;}#sk-container-id-2 div.sk-estimator:hover {background-color: #d4ebff;}#sk-container-id-2 div.sk-parallel-item::after {content: \"\";width: 100%;border-bottom: 1px solid gray;flex-grow: 1;}#sk-container-id-2 div.sk-label:hover label.sk-toggleable__label {background-color: #d4ebff;}#sk-container-id-2 div.sk-serial::before {content: \"\";position: absolute;border-left: 1px solid gray;box-sizing: border-box;top: 0;bottom: 0;left: 50%;z-index: 0;}#sk-container-id-2 div.sk-serial {display: flex;flex-direction: column;align-items: center;background-color: white;padding-right: 0.2em;padding-left: 0.2em;position: relative;}#sk-container-id-2 div.sk-item {position: relative;z-index: 1;}#sk-container-id-2 div.sk-parallel {display: flex;align-items: stretch;justify-content: center;background-color: white;position: relative;}#sk-container-id-2 div.sk-item::before, #sk-container-id-2 div.sk-parallel-item::before {content: \"\";position: absolute;border-left: 1px solid gray;box-sizing: border-box;top: 0;bottom: 0;left: 50%;z-index: -1;}#sk-container-id-2 div.sk-parallel-item {display: flex;flex-direction: column;z-index: 1;position: relative;background-color: white;}#sk-container-id-2 div.sk-parallel-item:first-child::after {align-self: flex-end;width: 50%;}#sk-container-id-2 div.sk-parallel-item:last-child::after {align-self: flex-start;width: 50%;}#sk-container-id-2 div.sk-parallel-item:only-child::after {width: 0;}#sk-container-id-2 div.sk-dashed-wrapped {border: 1px dashed gray;margin: 0 0.4em 0.5em 0.4em;box-sizing: border-box;padding-bottom: 0.4em;background-color: white;}#sk-container-id-2 div.sk-label label {font-family: monospace;font-weight: bold;display: inline-block;line-height: 1.2em;}#sk-container-id-2 div.sk-label-container {text-align: center;}#sk-container-id-2 div.sk-container {/* jupyter's `normalize.less` sets `[hidden] { display: none; }` but bootstrap.min.css set `[hidden] { display: none !important; }` so we also need the `!important` here to be able to override the default hidden behavior on the sphinx rendered scikit-learn.org. See: https://github.com/scikit-learn/scikit-learn/issues/21755 */display: inline-block !important;position: relative;}#sk-container-id-2 div.sk-text-repr-fallback {display: none;}</style><div id=\"sk-container-id-2\" class=\"sk-top-container\"><div class=\"sk-text-repr-fallback\"><pre>GridSearchCV(cv=25, estimator=LogisticRegression(max_iter=10000, solver=&#x27;saga&#x27;),\n",
       "             param_grid={&#x27;C&#x27;: array([1.00000000e+00, 1.29154967e+01, 1.66810054e+02, 2.15443469e+03,\n",
       "       2.78255940e+04, 3.59381366e+05, 4.64158883e+06, 5.99484250e+07,\n",
       "       7.74263683e+08, 1.00000000e+10]),\n",
       "                         &#x27;penalty&#x27;: [&#x27;l1&#x27;, &#x27;l2&#x27;]},\n",
       "             verbose=2)</pre><b>In a Jupyter environment, please rerun this cell to show the HTML representation or trust the notebook. <br />On GitHub, the HTML representation is unable to render, please try loading this page with nbviewer.org.</b></div><div class=\"sk-container\" hidden><div class=\"sk-item sk-dashed-wrapped\"><div class=\"sk-label-container\"><div class=\"sk-label sk-toggleable\"><input class=\"sk-toggleable__control sk-hidden--visually\" id=\"sk-estimator-id-6\" type=\"checkbox\" ><label for=\"sk-estimator-id-6\" class=\"sk-toggleable__label sk-toggleable__label-arrow\">GridSearchCV</label><div class=\"sk-toggleable__content\"><pre>GridSearchCV(cv=25, estimator=LogisticRegression(max_iter=10000, solver=&#x27;saga&#x27;),\n",
       "             param_grid={&#x27;C&#x27;: array([1.00000000e+00, 1.29154967e+01, 1.66810054e+02, 2.15443469e+03,\n",
       "       2.78255940e+04, 3.59381366e+05, 4.64158883e+06, 5.99484250e+07,\n",
       "       7.74263683e+08, 1.00000000e+10]),\n",
       "                         &#x27;penalty&#x27;: [&#x27;l1&#x27;, &#x27;l2&#x27;]},\n",
       "             verbose=2)</pre></div></div></div><div class=\"sk-parallel\"><div class=\"sk-parallel-item\"><div class=\"sk-item\"><div class=\"sk-label-container\"><div class=\"sk-label sk-toggleable\"><input class=\"sk-toggleable__control sk-hidden--visually\" id=\"sk-estimator-id-7\" type=\"checkbox\" ><label for=\"sk-estimator-id-7\" class=\"sk-toggleable__label sk-toggleable__label-arrow\">estimator: LogisticRegression</label><div class=\"sk-toggleable__content\"><pre>LogisticRegression(max_iter=10000, solver=&#x27;saga&#x27;)</pre></div></div></div><div class=\"sk-serial\"><div class=\"sk-item\"><div class=\"sk-estimator sk-toggleable\"><input class=\"sk-toggleable__control sk-hidden--visually\" id=\"sk-estimator-id-8\" type=\"checkbox\" ><label for=\"sk-estimator-id-8\" class=\"sk-toggleable__label sk-toggleable__label-arrow\">LogisticRegression</label><div class=\"sk-toggleable__content\"><pre>LogisticRegression(max_iter=10000, solver=&#x27;saga&#x27;)</pre></div></div></div></div></div></div></div></div></div></div>"
      ],
      "text/plain": [
       "GridSearchCV(cv=25, estimator=LogisticRegression(max_iter=10000, solver='saga'),\n",
       "             param_grid={'C': array([1.00000000e+00, 1.29154967e+01, 1.66810054e+02, 2.15443469e+03,\n",
       "       2.78255940e+04, 3.59381366e+05, 4.64158883e+06, 5.99484250e+07,\n",
       "       7.74263683e+08, 1.00000000e+10]),\n",
       "                         'penalty': ['l1', 'l2']},\n",
       "             verbose=2)"
      ]
     },
     "execution_count": 26,
     "metadata": {},
     "output_type": "execute_result"
    }
   ],
   "source": [
    "trained_accuracy_score = logistic_regression_model.score(X_train, y_train)\n",
    "print(\"Accuracy on train data: \" , trained_accuracy_score)\n",
    "\n",
    "# Create regularization penalty space.\n",
    "penalty = ['l1', 'l2']\n",
    "# Create regularization constant space.\n",
    "C = np.logspace(0, 10, 10)\n",
    "print(\"Regularization constant: \", C)\n",
    "# Create hyperparameter options dictionary.\n",
    "hyperparameters = dict(C = C, penalty = penalty)\n",
    "print(hyperparameters)\n",
    "\n",
    "\n",
    "clf = GridSearchCV(linear_model.LogisticRegression(solver='saga',\n",
    "                                                   max_iter = 10000),\n",
    "                                                   #,n_jobs = -1), #<- function to optimize\n",
    "                   hyperparameters,                   #<- grid search parameters\n",
    "                   cv = 25,                           #<- 10-fold cv\n",
    "                   verbose = 2)                       #<- no messages to show\n",
    "# Fit CV grid search.\n",
    "best_model = clf.fit(X_train, y_train)\n",
    "best_model\n"
   ]
  },
  {
   "cell_type": "code",
   "execution_count": 27,
   "id": "e36bf852-96da-4cd6-a463-9b6364584dd2",
   "metadata": {},
   "outputs": [
    {
     "name": "stdout",
     "output_type": "stream",
     "text": [
      "Best penalty:  l1\n",
      "Best C:  12.91549665014884\n",
      "[False False False ... False False False]\n",
      "Accuracy on test data (best model):  0.5498971193415638\n",
      "Accuracy on train data:  0.5600749559082893\n"
     ]
    }
   ],
   "source": [
    "penalty = best_model.best_estimator_.get_params()['penalty']\n",
    "constant = best_model.best_estimator_.get_params()['C']\n",
    "print('Best penalty: ', penalty)\n",
    "print('Best C: ', constant)\n",
    "\n",
    "best_predicted_values = best_model.predict(X_test)\n",
    "print(best_predicted_values)\n",
    "# Compute best model accuracy score.\n",
    "best_accuracy_score = metrics.accuracy_score(y_test, best_predicted_values)\n",
    "print(\"Accuracy on test data (best model): \", best_accuracy_score)\n",
    "\n",
    "\n",
    "trained_accuracy_score = best_model.score(X_train, y_train)\n",
    "print(\"Accuracy on train data: \" , trained_accuracy_score)"
   ]
  },
  {
   "cell_type": "code",
   "execution_count": 28,
   "id": "83656f30-4b78-430d-b545-ea488a6d4e98",
   "metadata": {},
   "outputs": [
    {
     "name": "stdout",
     "output_type": "stream",
     "text": [
      "[[2080   51]\n",
      " [1699   58]]\n",
      "              precision    recall  f1-score   support\n",
      "\n",
      "         Buy       0.55      0.98      0.70      2131\n",
      "        Sell       0.53      0.03      0.06      1757\n",
      "\n",
      "    accuracy                           0.55      3888\n",
      "   macro avg       0.54      0.50      0.38      3888\n",
      "weighted avg       0.54      0.55      0.41      3888\n",
      "\n"
     ]
    }
   ],
   "source": [
    "# Compute confusion matrix for best model.\n",
    "best_confusion_matrix = metrics.confusion_matrix(y_test, best_predicted_values)\n",
    "print(best_confusion_matrix)\n",
    "# Create a list of target names to interpret class assignments.\n",
    "target_names = ['Buy', 'Sell']\n",
    "# Compute classification report for best model.\n",
    "best_class_report = metrics.classification_report(y_test, best_predicted_values, \n",
    "                                                  target_names = target_names)\n",
    "print(best_class_report)\n"
   ]
  },
  {
   "cell_type": "code",
   "execution_count": 29,
   "id": "2fc4844d-65f8-4ac6-94ee-9b63ded1f584",
   "metadata": {},
   "outputs": [
    {
     "name": "stdout",
     "output_type": "stream",
     "text": [
      "    metrics  values             model\n",
      "0  accuracy  0.5437             kNN_k\n",
      "1  accuracy  0.4315  kNN_GridSearchCV\n",
      "2  accuracy  1.0000     kNN_optimized\n",
      "3  accuracy  0.5481          logistic\n",
      "4  accuracy  0.5499    logistic_tuned\n"
     ]
    },
    {
     "name": "stderr",
     "output_type": "stream",
     "text": [
      "/var/folders/bx/98s7l1y96p1f_2n55v3g_3dc0000gn/T/ipykernel_35733/747231987.py:1: FutureWarning: The frame.append method is deprecated and will be removed from pandas in a future version. Use pandas.concat instead.\n",
      "  model_final = model_final.append({'metrics' : \"accuracy\",\n"
     ]
    }
   ],
   "source": [
    "model_final = model_final.append({'metrics' : \"accuracy\", \n",
    "                                  'values' : round(best_accuracy_score, 4),\n",
    "                                  'model':'logistic_tuned' },ignore_index = True)\n",
    "print(model_final)\n"
   ]
  },
  {
   "cell_type": "code",
   "execution_count": 30,
   "id": "ed63f1e3-1f12-40c2-a928-b81665c943dd",
   "metadata": {},
   "outputs": [
    {
     "name": "stdout",
     "output_type": "stream",
     "text": [
      "[[0.58033189 0.41966811]\n",
      " [0.5773256  0.4226744 ]\n",
      " [0.56629171 0.43370829]\n",
      " [0.56483804 0.43516196]\n",
      " [0.52014472 0.47985528]]\n",
      "[0.41966811 0.4226744  0.43370829 0.43516196 0.47985528]\n",
      "0.5402822577091246\n"
     ]
    }
   ],
   "source": [
    "# Get probabilities instead of predicted values.\n",
    "best_test_probabilities = best_model.predict_proba(X_test)\n",
    "print(best_test_probabilities[0:5, ])\n",
    "# Get probabilities of test predictions only.\n",
    "best_test_predictions = best_test_probabilities[:, 1]\n",
    "print(best_test_predictions[0:5])\n",
    "\n",
    "\n",
    "best_fpr, best_tpr, best_threshold = metrics.roc_curve(y_test, best_test_predictions)\n",
    "best_auc = metrics.auc(best_fpr, best_tpr)\n",
    "print(best_auc)"
   ]
  },
  {
   "cell_type": "code",
   "execution_count": 31,
   "id": "5218ee7a-84c2-4077-9bdc-2cc89d7815ee",
   "metadata": {},
   "outputs": [
    {
     "data": {
      "image/png": "[encoded data removed]",
      "text/plain": [
       "<Figure size 432x288 with 1 Axes>"
      ]
     },
     "metadata": {
      "needs_background": "light"
     },
     "output_type": "display_data"
    }
   ],
   "source": [
    "# Make an ROC curve plot.\n",
    "plt.title('Receiver Operator Characteristic')\n",
    "plt.plot(fpr, tpr, 'blue', \n",
    "         label = 'AUC = %0.2f'%auc)\n",
    "plt.plot(best_fpr, best_tpr, 'black', \n",
    "         label = 'AUC (best) = %0.2f'%best_auc)\n",
    "plt.legend(loc = 'lower right')\n",
    "plt.plot([0, 1], [0, 1],'r--')\n",
    "plt.xlabel('False Positive Rate')\n",
    "plt.ylabel('True Positive Rate')\n",
    "plt.show()"
   ]
  },
  {
   "cell_type": "markdown",
   "id": "0241acad-0c01-43d9-b94b-194d68e501de",
   "metadata": {},
   "source": [
    "trained_accuracy_score = logistic_regression_model.score(X_train, y_train)\n",
    "print(\"Accuracy on train data: \" , trained_accuracy_score)\n",
    "\n",
    "# Create regularization penalty space.\n",
    "penalty = ['l1', 'l2']\n",
    "# Create regularization constant space.\n",
    "C = np.logspace(0, 10, 10)\n",
    "print(\"Regularization constant: \", C)\n",
    "# Create hyperparameter options dictionary.\n",
    "hyperparameters = dict(C = C, penalty = penalty)\n",
    "print(hyperparameters)\n",
    "\n",
    "\n",
    "clf = GridSearchCV(linear_model.LogisticRegression(solver='saga',\n",
    "                                                   max_iter = 5000),\n",
    "                                                   #,n_jobs = -1), #<- function to optimize\n",
    "                   hyperparameters,                   #<- grid search parameters\n",
    "                   cv = 25,                           #<- 10-fold cv\n",
    "                   verbose = 1)                       #<- no messages to show\n",
    "# Fit CV grid search.\n",
    "best_model = clf.fit(X_train, y_train)\n",
    "best_model\n"
   ]
  },
  {
   "cell_type": "markdown",
   "id": "9e9516cd-b6b1-4275-b5cd-ac8e0fa9d86a",
   "metadata": {},
   "source": [
    "## Decision Tree"
   ]
  },
  {
   "cell_type": "code",
   "execution_count": 32,
   "id": "4ad4a8c5-1540-4a7c-8055-8f93ba937e61",
   "metadata": {},
   "outputs": [
    {
     "name": "stdout",
     "output_type": "stream",
     "text": [
      "False    7218\n",
      "True     5742\n",
      "Name: response, dtype: int64\n"
     ]
    },
    {
     "name": "stderr",
     "output_type": "stream",
     "text": [
      "/var/folders/bx/98s7l1y96p1f_2n55v3g_3dc0000gn/T/ipykernel_35733/2953734480.py:6: SettingWithCopyWarning: \n",
      "A value is trying to be set on a copy of a slice from a DataFrame.\n",
      "Try using .loc[row_indexer,col_indexer] = value instead\n",
      "\n",
      "See the caveats in the documentation: https://pandas.pydata.org/pandas-docs/stable/user_guide/indexing.html#returning-a-view-versus-a-copy\n",
      "  df_subset['response'] = np.where(df_subset.copy()[target_col] > 0,sell,buy)\n"
     ]
    }
   ],
   "source": [
    "X_train, X_test, y_train, y_test,y,X,df_subset = prep_data(df,subset_columns,'percent_change','dt')"
   ]
  },
  {
   "cell_type": "code",
   "execution_count": 33,
   "id": "4b8d5409-5003-46a5-8d83-29f88c7e2157",
   "metadata": {},
   "outputs": [
    {
     "data": {
      "text/plain": [
       "array([False, False, False,  True,  True, False, False, False,  True,\n",
       "       False,  True,  True, False,  True,  True,  True,  True,  True,\n",
       "        True, False])"
      ]
     },
     "execution_count": 33,
     "metadata": {},
     "output_type": "execute_result"
    }
   ],
   "source": [
    "clf = tree.DecisionTreeClassifier()\n",
    "clf_fit = clf.fit(X_train, y_train)\n",
    "\n",
    "# Predict on X_test.\n",
    "y_predict = clf_fit.predict(X_test)\n",
    "y_predict[:20]"
   ]
  },
  {
   "cell_type": "code",
   "execution_count": 34,
   "id": "bcf97a5d-0b6e-4b22-af74-e61c3f190d35",
   "metadata": {},
   "outputs": [
    {
     "name": "stdout",
     "output_type": "stream",
     "text": [
      "0.5174897119341564\n"
     ]
    }
   ],
   "source": [
    "# Confusion matrix for first model.\n",
    "cm_tree = confusion_matrix(y_test,y_predict)\n",
    "# Accuracy score.\n",
    "acc_score = accuracy_score(y_test, y_predict)\n",
    "print(acc_score)"
   ]
  },
  {
   "cell_type": "code",
   "execution_count": 35,
   "id": "d0032aa3-06ce-4523-bd62-0a864b758034",
   "metadata": {},
   "outputs": [
    {
     "data": {
      "image/png": "[encoded data removed]",
      "text/plain": [
       "<Figure size 432x288 with 1 Axes>"
      ]
     },
     "metadata": {
      "needs_background": "light"
     },
     "output_type": "display_data"
    }
   ],
   "source": [
    "plt.clf()\n",
    "plt.imshow(cm_tree, interpolation='nearest', cmap=plt.cm.Wistia)\n",
    "classNames = ['Negative','Positive']\n",
    "plt.title('Confusion Matrix - Test Data')\n",
    "plt.ylabel('True label')\n",
    "plt.xlabel('Predicted label')\n",
    "tick_marks = np.arange(len(classNames))\n",
    "plt.xticks(tick_marks, classNames, rotation=45)\n",
    "plt.yticks(tick_marks, classNames)\n",
    "s = [['TN','FP'], ['FN', 'TP']]\n",
    "for i in range(2):\n",
    "    for j in range(2):\n",
    "        plt.text(j,i, str(s[i][j]) + \" = \" + str(cm_tree[i][j]))\n",
    "plt.show()\n"
   ]
  },
  {
   "cell_type": "code",
   "execution_count": 36,
   "id": "96445d6b-3326-4cbe-aa24-13b0da76b16f",
   "metadata": {},
   "outputs": [
    {
     "data": {
      "image/png": "[encoded data removed]",
      "text/plain": [
       "<Figure size 432x288 with 1 Axes>"
      ]
     },
     "metadata": {
      "needs_background": "light"
     },
     "output_type": "display_data"
    }
   ],
   "source": [
    "# Calculate metrics for ROC (fpr, tpr) and calculate AUC.\n",
    "fpr, tpr, threshold = metrics.roc_curve(y_test, y_predict)\n",
    "roc_auc = metrics.auc(fpr, tpr)\n",
    "\n",
    "# Plot ROC.\n",
    "plt.title('Receiver Operating Characteristic')\n",
    "plt.plot(fpr, tpr, 'b', label = 'AUC = %0.2f' % roc_auc)\n",
    "plt.legend(loc = 'lower right')\n",
    "plt.plot([0, 1], [0, 1],'r--')\n",
    "plt.xlim([0, 1])\n",
    "plt.ylim([0, 1])\n",
    "plt.ylabel('True Positive Rate')\n",
    "plt.xlabel('False Positive Rate')\n",
    "plt.show()\n"
   ]
  },
  {
   "cell_type": "code",
   "execution_count": 37,
   "id": "74a9e7dd-1a34-4c39-af5f-47f3b09ce7f1",
   "metadata": {},
   "outputs": [
    {
     "name": "stdout",
     "output_type": "stream",
     "text": [
      "DecisionTreeClassifier()\n",
      "[False False False  True  True False False False  True False  True  True\n",
      " False  True  True  True False False  True False]\n",
      "Accuracy on test data:  0.5185185185185185\n"
     ]
    }
   ],
   "source": [
    "clf = tree.DecisionTreeClassifier()\n",
    "print(clf)\n",
    "clf_fit = clf.fit(X_train, y_train)\n",
    "y_predict = clf_fit.predict(X_test)\n",
    "print(y_predict[:20])\n",
    "tree_accuracy_score = metrics.accuracy_score(y_test, y_predict)\n",
    "print(\"Accuracy on test data: \", tree_accuracy_score)"
   ]
  },
  {
   "cell_type": "code",
   "execution_count": 38,
   "id": "2c4b868f-48de-4880-956d-9cabf2c569fd",
   "metadata": {},
   "outputs": [
    {
     "name": "stdout",
     "output_type": "stream",
     "text": [
      "Train Accuracy: 1.0\n"
     ]
    }
   ],
   "source": [
    "acc_train_tree = clf_fit.score(X_train,\n",
    "                                 y_train)\n",
    "print (\"Train Accuracy:\", acc_train_tree)"
   ]
  },
  {
   "cell_type": "code",
   "execution_count": 39,
   "id": "af1162a4-f6f1-4ce5-ae5d-53a395afb1e7",
   "metadata": {},
   "outputs": [
    {
     "name": "stdout",
     "output_type": "stream",
     "text": [
      "    metrics  values               model\n",
      "0  accuracy  0.5437               kNN_k\n",
      "1  accuracy  0.4315    kNN_GridSearchCV\n",
      "2  accuracy  1.0000       kNN_optimized\n",
      "3  accuracy  0.5481            logistic\n",
      "4  accuracy  0.5499      logistic_tuned\n",
      "5  accuracy  0.5185  tree_all_variables\n"
     ]
    },
    {
     "name": "stderr",
     "output_type": "stream",
     "text": [
      "/var/folders/bx/98s7l1y96p1f_2n55v3g_3dc0000gn/T/ipykernel_35733/3823576582.py:1: FutureWarning: The frame.append method is deprecated and will be removed from pandas in a future version. Use pandas.concat instead.\n",
      "  model_final = model_final.append({'metrics' : \"accuracy\" ,\n"
     ]
    }
   ],
   "source": [
    "model_final = model_final.append({'metrics' : \"accuracy\" , \n",
    "                                  'values' : round(tree_accuracy_score,4),\n",
    "                                  'model':'tree_all_variables' },ignore_index = True)\n",
    "print(model_final)\n"
   ]
  },
  {
   "cell_type": "code",
   "execution_count": 40,
   "id": "bd89216a-6951-41b1-a402-096718771768",
   "metadata": {},
   "outputs": [
    {
     "name": "stdout",
     "output_type": "stream",
     "text": [
      "[0.47916667 0.50308642 0.48765432 0.51774691 0.48611111 0.44135802\n",
      " 0.50771605 0.54012346 0.46682099 0.50231481]\n",
      "cv_scores mean:0.4932098765432099\n",
      "Optimal cv score is: 0.4932\n"
     ]
    }
   ],
   "source": [
    "clf = tree.DecisionTreeClassifier()\n",
    "cv_scores = cross_val_score(clf, X, y, cv = 10)\n",
    "# Print each cv score (accuracy) and average them.\n",
    "print(cv_scores)\n",
    "print(\"cv_scores mean:{}\".format(np.mean(cv_scores)))\n",
    "mean = np.mean(cv_scores)\n",
    "print(\"Optimal cv score is:\", round(mean, 4))\n"
   ]
  },
  {
   "cell_type": "code",
   "execution_count": 41,
   "id": "3df2b35e-9d70-4849-9c3e-ecd3b1b905de",
   "metadata": {},
   "outputs": [],
   "source": [
    "def optimal_parameter(values,test_results):\n",
    "    best_test_value = max(test_results)\n",
    "    best_test_index = test_results.index(best_test_value)\n",
    "    best_value = values[best_test_index]\n",
    "    return(best_value)\n"
   ]
  },
  {
   "cell_type": "code",
   "execution_count": 42,
   "id": "d5d4c4ce-9d85-41d2-9c7f-f983cb4e816d",
   "metadata": {},
   "outputs": [],
   "source": [
    "# Max depth:\n",
    "max_depths = np.linspace(1, 128, 32, endpoint = True)\n",
    "train_results = []\n",
    "test_results = []\n",
    "\n",
    "for max_depth in max_depths:\n",
    "   dt = DecisionTreeClassifier(max_depth = int(max_depth))\n",
    "   dt.fit(X_train, y_train)\n",
    "   \n",
    "   train_pred = dt.predict(X_train)\n",
    "   acc_train = accuracy_score(y_train, train_pred)\n",
    "   \n",
    "   # Add accuracy score to previous train results\n",
    "   train_results.append(acc_train)\n",
    "   y_pred = dt.predict(X_test)\n",
    "   acc_test = accuracy_score(y_test, y_pred)\n",
    "   # Add accuracy score to previous test results\n",
    "   test_results.append(acc_test)\n",
    "# Store optimal max_depth.\n",
    "optimal_max_depth = optimal_parameter(max_depths,test_results)  \n"
   ]
  },
  {
   "cell_type": "code",
   "execution_count": 43,
   "id": "78004f21-3620-4d44-afd2-475e1cbe3092",
   "metadata": {},
   "outputs": [
    {
     "data": {
      "image/png": "[encoded data removed]",
      "text/plain": [
       "<Figure size 432x288 with 1 Axes>"
      ]
     },
     "metadata": {
      "needs_background": "light"
     },
     "output_type": "display_data"
    }
   ],
   "source": [
    "# Plot max depth over 1 - 32. \n",
    "line1, = plt.plot(max_depths, train_results, 'b', label= \"Train accuracy\")\n",
    "line2, = plt.plot(max_depths, test_results, 'r', label= \"Test accuracy\")\n",
    "\n",
    "plt.legend(handler_map={line1: HandlerLine2D(numpoints = 2)})\n",
    "plt.ylabel('Accuracy')\n",
    "plt.xlabel('Tree depth')\n",
    "plt.show()"
   ]
  },
  {
   "cell_type": "code",
   "execution_count": 44,
   "id": "6a440f99-f8ef-4b59-a0ab-d79ca44e5b7f",
   "metadata": {},
   "outputs": [],
   "source": [
    "min_samples_splits = np.linspace(0.1, 1.0, 10, endpoint=True)\n",
    "train_results = []\n",
    "test_results = []\n",
    "\n",
    "for min_samples_split in min_samples_splits:\n",
    "   dt = DecisionTreeClassifier(min_samples_split=min_samples_split)\n",
    "   dt.fit(X_train, y_train)\n",
    "   train_pred = dt.predict(X_train)\n",
    "   acc_train = accuracy_score(y_train, train_pred)\n",
    "   # Add accuracy score to previous train results\n",
    "   train_results.append(acc_train)\n",
    "   y_pred = dt.predict(X_test)\n",
    "   acc_test = accuracy_score(y_test, y_pred)\n",
    "   # Add accuracy score to previous test results\n",
    "   test_results.append(acc_test)\n",
    "# Store optimal max_depth.\n",
    "optimal_min_samples_split = optimal_parameter(min_samples_splits,test_results) \n"
   ]
  },
  {
   "cell_type": "code",
   "execution_count": 45,
   "id": "21256eaa-8915-474a-a5f3-a768691a2c6b",
   "metadata": {},
   "outputs": [
    {
     "data": {
      "image/png": "[encoded data removed]",
      "text/plain": [
       "<Figure size 432x288 with 1 Axes>"
      ]
     },
     "metadata": {
      "needs_background": "light"
     },
     "output_type": "display_data"
    }
   ],
   "source": [
    "line1, = plt.plot(min_samples_splits, train_results, 'b', label = \"Train accuracy\")\n",
    "line2, = plt.plot(min_samples_splits, test_results, 'r', label = \"Test accuracy\")\n",
    "\n",
    "plt.legend(handler_map={line1: HandlerLine2D(numpoints=2)})\n",
    "plt.ylabel('Accuracy')\n",
    "plt.xlabel('min samples split')\n",
    "plt.show()\n"
   ]
  },
  {
   "cell_type": "code",
   "execution_count": 46,
   "id": "38a95206-3da9-48cc-887a-bbf710812cdc",
   "metadata": {},
   "outputs": [],
   "source": [
    "min_samples_leafs = np.linspace(0.1, 0.5, 5, endpoint = True)\n",
    "train_results = []\n",
    "test_results = []\n",
    "\n",
    "for min_samples_leaf in min_samples_leafs:\n",
    "   dt = DecisionTreeClassifier(min_samples_leaf=min_samples_leaf)\n",
    "   dt.fit(X_train, y_train)\n",
    "   train_pred = dt.predict(X_train)\n",
    "   acc_train = accuracy_score(y_train, train_pred)\n",
    "   # Add accuracy score to previous train results\n",
    "   train_results.append(acc_train)\n",
    "   y_pred = dt.predict(X_test)\n",
    "   acc_test = accuracy_score(y_test, y_pred)\n",
    "   # Add accuracy score to previous test results\n",
    "   test_results.append(acc_test)\n",
    "optimal_min_samples_leafs = optimal_parameter(min_samples_leafs,test_results)"
   ]
  },
  {
   "cell_type": "code",
   "execution_count": 47,
   "id": "837d847d-466d-4832-9cab-4572294e6a70",
   "metadata": {},
   "outputs": [
    {
     "data": {
      "image/png": "[encoded data removed]",
      "text/plain": [
       "<Figure size 432x288 with 1 Axes>"
      ]
     },
     "metadata": {
      "needs_background": "light"
     },
     "output_type": "display_data"
    }
   ],
   "source": [
    "line1, = plt.plot(min_samples_leafs, train_results, 'b', label= \"Train accuracy\")\n",
    "line2, = plt.plot(min_samples_leafs, test_results, 'r', label= \"Test accuracy\")\n",
    "\n",
    "plt.legend(handler_map={line1: HandlerLine2D(numpoints=2)})\n",
    "plt.ylabel('Accuracy')\n",
    "plt.xlabel('min samples leafs')\n",
    "plt.show()"
   ]
  },
  {
   "cell_type": "code",
   "execution_count": 48,
   "id": "61c77994-3a2d-4f9a-8579-e0987bb8bbbb",
   "metadata": {},
   "outputs": [],
   "source": [
    "max_features = list(range(1,X.shape[1]))\n",
    "train_results = []\n",
    "test_results = []\n",
    "\n",
    "for max_feature in max_features:\n",
    "   dt = DecisionTreeClassifier(max_features=max_feature)\n",
    "   dt.fit(X_train, y_train)\n",
    "   train_pred = dt.predict(X_train)\n",
    "   acc_train = accuracy_score(y_train, train_pred)\n",
    "   # Add accuracy score to previous train results\n",
    "   train_results.append(acc_train)\n",
    "   y_pred = dt.predict(X_test)\n",
    "   acc_test = accuracy_score(y_test, y_pred)\n",
    "   \n",
    "   # Add accuracy score to previous test results\n",
    "   test_results.append(acc_test)\n",
    "optimal_max_features = optimal_parameter(max_features,test_results) \n",
    "\n"
   ]
  },
  {
   "cell_type": "code",
   "execution_count": 49,
   "id": "df9c1fd8-1466-440b-b23c-fa9286856b6e",
   "metadata": {},
   "outputs": [
    {
     "data": {
      "image/png": "[encoded data removed]",
      "text/plain": [
       "<Figure size 432x288 with 1 Axes>"
      ]
     },
     "metadata": {
      "needs_background": "light"
     },
     "output_type": "display_data"
    }
   ],
   "source": [
    "line1, = plt.plot(max_features, train_results, 'b', label= \"Train accuracy\")\n",
    "line2, = plt.plot(max_features, test_results, 'r', label= \"Test accuracy\")\n",
    "\n",
    "plt.legend(handler_map={line1: HandlerLine2D(numpoints=2)})\n",
    "plt.ylabel('Accuracy')\n",
    "plt.xlabel('max features')\n",
    "plt.show()"
   ]
  },
  {
   "cell_type": "code",
   "execution_count": 50,
   "id": "a04ecc08-a515-4481-8470-9ff7f8dc3bd4",
   "metadata": {},
   "outputs": [
    {
     "name": "stdout",
     "output_type": "stream",
     "text": [
      "The optimal max depth is: 1.0\n",
      "The optimal min samples split is: 0.4\n",
      "The optimal min samples leaf is: 0.2\n",
      "The optimal max features is: 4\n"
     ]
    }
   ],
   "source": [
    "print(\"The optimal max depth is:\", optimal_max_depth)\n",
    "print(\"The optimal min samples split is:\", optimal_min_samples_split)\n",
    "print(\"The optimal min samples leaf is:\", optimal_min_samples_leafs)\n",
    "print(\"The optimal max features is:\", optimal_max_features)"
   ]
  },
  {
   "cell_type": "code",
   "execution_count": 51,
   "id": "292a72e3-be8d-43a5-8f1d-44005ec3f2b3",
   "metadata": {},
   "outputs": [
    {
     "name": "stdout",
     "output_type": "stream",
     "text": [
      "DecisionTreeClassifier(max_depth=1, max_features=4, min_samples_leaf=0.2,\n",
      "                       min_samples_split=0.4)\n"
     ]
    }
   ],
   "source": [
    "clf_optimized = tree.DecisionTreeClassifier(max_depth = int(optimal_max_depth),\n",
    "                                            min_samples_split = optimal_min_samples_split,\n",
    "                                            min_samples_leaf = optimal_min_samples_leafs,\n",
    "                                            max_features = optimal_max_features)\n",
    "                                            \n",
    "# We can now see our optimized features where before they were just default:\n",
    "print(clf_optimized)\n",
    "clf_optimized_fit = clf_optimized.fit(X_train, y_train)\n"
   ]
  },
  {
   "cell_type": "code",
   "execution_count": 52,
   "id": "eb623565-59d3-4f9e-83d8-319c9de15070",
   "metadata": {},
   "outputs": [
    {
     "name": "stdout",
     "output_type": "stream",
     "text": [
      "0.5576131687242798\n"
     ]
    }
   ],
   "source": [
    "# Predict on X_test.\n",
    "y_predict_optimized = clf_optimized_fit.predict(X_test)\n",
    "\n",
    "# Get the accuracy score.\n",
    "acc_score_tree_optimized = accuracy_score(y_test, y_predict_optimized)\n",
    "\n",
    "print(acc_score_tree_optimized)\n"
   ]
  },
  {
   "cell_type": "code",
   "execution_count": 53,
   "id": "f6bffa80-68f8-41a4-9297-2582f0a67b95",
   "metadata": {},
   "outputs": [
    {
     "name": "stdout",
     "output_type": "stream",
     "text": [
      "Train Accuracy: 0.556657848324515\n"
     ]
    }
   ],
   "source": [
    "# Compute accuracy using training data.\n",
    "acc_train_tree_optimized = clf_optimized_fit.score(X_train,\n",
    "                                         y_train)\n",
    "                                         \n",
    "print (\"Train Accuracy:\", acc_train_tree_optimized)"
   ]
  },
  {
   "cell_type": "code",
   "execution_count": 54,
   "id": "0817d0b3-956b-41c6-bd75-17f58cb507e1",
   "metadata": {},
   "outputs": [
    {
     "name": "stdout",
     "output_type": "stream",
     "text": [
      "    metrics  values                         model\n",
      "0  accuracy  0.5437                         kNN_k\n",
      "1  accuracy  0.4315              kNN_GridSearchCV\n",
      "2  accuracy  1.0000                 kNN_optimized\n",
      "3  accuracy  0.5481                      logistic\n",
      "4  accuracy  0.5499                logistic_tuned\n",
      "5  accuracy  0.5185            tree_all_variables\n",
      "6  accuracy  0.5576  tree_all_variables_optimized\n"
     ]
    },
    {
     "name": "stderr",
     "output_type": "stream",
     "text": [
      "/var/folders/bx/98s7l1y96p1f_2n55v3g_3dc0000gn/T/ipykernel_35733/4066245093.py:2: FutureWarning: The frame.append method is deprecated and will be removed from pandas in a future version. Use pandas.concat instead.\n",
      "  model_final= model_final.append({'metrics' : \"accuracy\" ,\n"
     ]
    }
   ],
   "source": [
    "# Add the optimized model to our dataframe.\n",
    "model_final= model_final.append({'metrics' : \"accuracy\" , \n",
    "             'values' : round(acc_score_tree_optimized,4),\n",
    "             'model':'tree_all_variables_optimized' },ignore_index = True)\n",
    "print(model_final)"
   ]
  },
  {
   "cell_type": "code",
   "execution_count": 55,
   "id": "8e15f2b6-a330-483c-a2a8-4d65a427c5d1",
   "metadata": {},
   "outputs": [
    {
     "data": {
      "text/html": [
       "<div>\n",
       "<style scoped>\n",
       "    .dataframe tbody tr th:only-of-type {\n",
       "        vertical-align: middle;\n",
       "    }\n",
       "\n",
       "    .dataframe tbody tr th {\n",
       "        vertical-align: top;\n",
       "    }\n",
       "\n",
       "    .dataframe thead th {\n",
       "        text-align: right;\n",
       "    }\n",
       "</style>\n",
       "<table border=\"1\" class=\"dataframe\">\n",
       "  <thead>\n",
       "    <tr style=\"text-align: right;\">\n",
       "      <th></th>\n",
       "      <th>metrics</th>\n",
       "      <th>values</th>\n",
       "      <th>model</th>\n",
       "    </tr>\n",
       "  </thead>\n",
       "  <tbody>\n",
       "    <tr>\n",
       "      <th>0</th>\n",
       "      <td>accuracy</td>\n",
       "      <td>0.5437</td>\n",
       "      <td>kNN_k</td>\n",
       "    </tr>\n",
       "    <tr>\n",
       "      <th>1</th>\n",
       "      <td>accuracy</td>\n",
       "      <td>0.4315</td>\n",
       "      <td>kNN_GridSearchCV</td>\n",
       "    </tr>\n",
       "    <tr>\n",
       "      <th>2</th>\n",
       "      <td>accuracy</td>\n",
       "      <td>1.0000</td>\n",
       "      <td>kNN_optimized</td>\n",
       "    </tr>\n",
       "    <tr>\n",
       "      <th>3</th>\n",
       "      <td>accuracy</td>\n",
       "      <td>0.5481</td>\n",
       "      <td>logistic</td>\n",
       "    </tr>\n",
       "    <tr>\n",
       "      <th>4</th>\n",
       "      <td>accuracy</td>\n",
       "      <td>0.5499</td>\n",
       "      <td>logistic_tuned</td>\n",
       "    </tr>\n",
       "    <tr>\n",
       "      <th>5</th>\n",
       "      <td>accuracy</td>\n",
       "      <td>0.5185</td>\n",
       "      <td>tree_all_variables</td>\n",
       "    </tr>\n",
       "    <tr>\n",
       "      <th>6</th>\n",
       "      <td>accuracy</td>\n",
       "      <td>0.5576</td>\n",
       "      <td>tree_all_variables_optimized</td>\n",
       "    </tr>\n",
       "  </tbody>\n",
       "</table>\n",
       "</div>"
      ],
      "text/plain": [
       "    metrics  values                         model\n",
       "0  accuracy  0.5437                         kNN_k\n",
       "1  accuracy  0.4315              kNN_GridSearchCV\n",
       "2  accuracy  1.0000                 kNN_optimized\n",
       "3  accuracy  0.5481                      logistic\n",
       "4  accuracy  0.5499                logistic_tuned\n",
       "5  accuracy  0.5185            tree_all_variables\n",
       "6  accuracy  0.5576  tree_all_variables_optimized"
      ]
     },
     "execution_count": 55,
     "metadata": {},
     "output_type": "execute_result"
    }
   ],
   "source": [
    "model_final"
   ]
  },
  {
   "cell_type": "code",
   "execution_count": null,
   "id": "c0365bc5-d495-4bf9-9658-a59f7ce63585",
   "metadata": {},
   "outputs": [],
   "source": []
  },
  {
   "cell_type": "code",
   "execution_count": null,
   "id": "238d0ae2-b581-4507-86fe-e1937ea7329e",
   "metadata": {},
   "outputs": [],
   "source": []
  }
 ],
 "metadata": {
  "kernelspec": {
   "display_name": "Python 3.9.12 ('base')",
   "language": "python",
   "name": "python3"
  },
  "language_info": {
   "codemirror_mode": {
    "name": "ipython",
    "version": 3
   },
   "file_extension": ".py",
   "mimetype": "text/x-python",
   "name": "python",
   "nbconvert_exporter": "python",
   "pygments_lexer": "ipython3",
   "version": "3.9.12"
  },
  "vscode": {
   "interpreter": {
    "hash": "90c9b1b1a75bac5eb83991887e6751c001170985b8ea7596804a2bf25084641b"
   }
  }
 },
 "nbformat": 4,
 "nbformat_minor": 5
}
