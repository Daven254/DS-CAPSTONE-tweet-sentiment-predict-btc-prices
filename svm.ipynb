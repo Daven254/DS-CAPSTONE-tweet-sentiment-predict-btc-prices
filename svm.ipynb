{
 "cells": [
  {
   "cell_type": "code",
   "execution_count": 2,
   "metadata": {},
   "outputs": [],
   "source": [
    "import os\n",
    "import pickle\n",
    "import numpy as np\n",
    "import pandas as pd\n",
    "import matplotlib.pyplot as plt\n",
    "from sklearn.model_selection import train_test_split\n",
    "from sklearn.svm import SVC\n",
    "from sklearn import metrics\n",
    "from sklearn.model_selection import GridSearchCV"
   ]
  },
  {
   "cell_type": "code",
   "execution_count": 3,
   "metadata": {},
   "outputs": [],
   "source": [
    "filename = 'minute_df_18Aug.csv'\n",
    "seed = 54\n",
    "np.random.seed(seed)"
   ]
  },
  {
   "cell_type": "code",
   "execution_count": 4,
   "metadata": {},
   "outputs": [],
   "source": [
    "feature_col = ['tweets_per_min','nlikes_per_min','nreplies_per_min','nretweets_per_min','volume_avg','n_trades_avg','compound_avg']\n",
    "target = 'up_down'"
   ]
  },
  {
   "cell_type": "code",
   "execution_count": 18,
   "metadata": {},
   "outputs": [],
   "source": [
    "def read_and_clean(location,filename,target,feature_col):\n",
    "    os.chdir(location)\n",
    "\n",
    "    df = pd.read_csv(filename,engine = 'python').sample(frac = 0.25, random_state=seed)\n",
    "    df['date'] = pd.to_datetime(df['date'])\n",
    "    if 'Unnamed: 0' in df.columns:\n",
    "        df = df.drop('Unnamed: 0',axis = 1).set_index('date')\n",
    "    else:\n",
    "        df = df.set_index('date')\n",
    "    if target == None:\n",
    "        target = 'time_to_sell'\n",
    "        df['time_to_sell'] = np.where(df['percent_change_avg'] < 0, False,True)\n",
    "        print(df.groupby('time_to_sell').count()['percent_change_avg'])\n",
    "        y = np.array(df['time_to_sell'])\n",
    "    else:\n",
    "        y = np.invert(np.array(df[target]))\n",
    "\n",
    "    X = df[feature_col]\n",
    "\n",
    "    X_train, X_test, y_train, y_test = train_test_split(X, y, test_size = 0.3, random_state=seed)\n",
    "\n",
    "    return [X, X_train, X_test], [y, y_train, y_test], df  "
   ]
  },
  {
   "cell_type": "code",
   "execution_count": 19,
   "metadata": {},
   "outputs": [],
   "source": [
    "X,Y,df = read_and_clean(os.getcwd(),filename,target,feature_col)\n"
   ]
  },
  {
   "cell_type": "code",
   "execution_count": 20,
   "metadata": {},
   "outputs": [],
   "source": [
    "def get_performance_scores(y_test, y_predict, y_predict_prob, eps=1e-15, beta=0.5):\n",
    "    from sklearn import metrics\n",
    "    # Scores keys.\n",
    "    metric_keys = [\"accuracy\", \"precision\", \"recall\", \"f1\", \"fbeta\", \"log_loss\", \"AUC\"]\n",
    "    # Score values.\n",
    "    metric_values = [None]*len(metric_keys)\n",
    "    metric_values[0] = metrics.accuracy_score(y_test, y_predict)\n",
    "    metric_values[1] = metrics.precision_score(y_test, y_predict)\n",
    "    metric_values[2] = metrics.recall_score(y_test, y_predict)\n",
    "    metric_values[3] = metrics.f1_score(y_test, y_predict)\n",
    "    metric_values[4] = metrics.fbeta_score(y_test, y_predict, beta=beta)\n",
    "    metric_values[5] = metrics.log_loss(y_test, y_predict_prob[:, 1], eps=eps)\n",
    "    metric_values[6] = metrics.roc_auc_score(y_test, y_predict_prob[:, 1])\n",
    "    perf_metrics = dict(zip(metric_keys, metric_values))\n",
    "    return(perf_metrics)"
   ]
  },
  {
   "cell_type": "code",
   "execution_count": 21,
   "metadata": {},
   "outputs": [],
   "source": [
    "svclassifier = SVC(kernel = 'linear', \n",
    "                   probability = True)"
   ]
  },
  {
   "cell_type": "code",
   "execution_count": 22,
   "metadata": {},
   "outputs": [],
   "source": [
    "# Fit the model.\n",
    "svclassifier.fit(X[1], Y[1])"
   ]
  },
  {
   "cell_type": "code",
   "execution_count": 13,
   "metadata": {},
   "outputs": [
    {
     "name": "stdout",
     "output_type": "stream",
     "text": [
      "[array([ True, False,  True, ...,  True,  True,  True]), array([ True,  True,  True, ...,  True,  True,  True]), array([ True, False,  True, ..., False,  True,  True])]\n",
      "Y: [False  True] [12887 12663]\n",
      "Y: [False  True] [8993 8892]\n",
      "Y: [False  True] [3894 3771]\n"
     ]
    }
   ],
   "source": [
    "for y in Y:\n",
    "    unique, counts = np.unique(y, return_counts=True)\n",
    "    print('Y:', unique, counts)\n"
   ]
  },
  {
   "cell_type": "code",
   "execution_count": null,
   "metadata": {},
   "outputs": [],
   "source": []
  }
 ],
 "metadata": {
  "kernelspec": {
   "display_name": "Python 3.9.12 ('base')",
   "language": "python",
   "name": "python3"
  },
  "language_info": {
   "codemirror_mode": {
    "name": "ipython",
    "version": 3
   },
   "file_extension": ".py",
   "mimetype": "text/x-python",
   "name": "python",
   "nbconvert_exporter": "python",
   "pygments_lexer": "ipython3",
   "version": "3.9.12"
  },
  "orig_nbformat": 4,
  "vscode": {
   "interpreter": {
    "hash": "90c9b1b1a75bac5eb83991887e6751c001170985b8ea7596804a2bf25084641b"
   }
  }
 },
 "nbformat": 4,
 "nbformat_minor": 2
}
